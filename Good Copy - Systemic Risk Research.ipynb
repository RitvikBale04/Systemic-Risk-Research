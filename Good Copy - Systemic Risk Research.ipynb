{
 "cells": [
  {
   "cell_type": "markdown",
   "metadata": {},
   "source": [
    "# Imports"
   ]
  },
  {
   "cell_type": "code",
   "execution_count": 1,
   "metadata": {},
   "outputs": [],
   "source": [
    "# Importing the required packages\n",
    "from tqdm import tqdm\n",
    "import datetime\n",
    "import numpy as np\n",
    "import pandas as pd\n",
    "from sklearn.linear_model import LinearRegression\n",
    "from sklearn.preprocessing import StandardScaler\n",
    "from sklearn.cluster import KMeans\n",
    "import seaborn as sb\n",
    "import matplotlib.pyplot as plt\n",
    "import time, sys\n",
    "\n",
    "from functions.Systemic_Risk_Research_Statistical_Functions import*\n",
    "from functions.Date_Function import*\n",
    "from functions.Systemic_Risk_Z_Score import*"
   ]
  },
  {
   "cell_type": "markdown",
   "metadata": {},
   "source": [
    "# Data Files"
   ]
  },
  {
   "cell_type": "code",
   "execution_count": 2,
   "metadata": {},
   "outputs": [],
   "source": [
    "# importing the data \n",
    "RF_Data = pd.read_csv(\"C:\\\\Users\\\\Ritvik Bale\\\\Documents\\\\Research\\\\Systemic Risk Research\\\\Risk Factor Data v1.csv\")\n",
    "Bank_Data = pd.read_csv(\"C:\\\\Users\\\\Ritvik Bale\\\\Documents\\\\Research\\\\Systemic Risk Research\\\\Bank data v1 2020-08-24.csv\")\n",
    "\n",
    "# converting the raw data to DataFrames\n",
    "RF_Data = pd.DataFrame(RF_Data)\n",
    "Bank_Data = pd.DataFrame(Bank_Data)"
   ]
  },
  {
   "cell_type": "markdown",
   "metadata": {},
   "source": [
    "# Adding Year, Month, and Day Columns to the DataFrames"
   ]
  },
  {
   "cell_type": "code",
   "execution_count": 3,
   "metadata": {},
   "outputs": [
    {
     "data": {
      "text/plain": [
       "0       -0.082353\n",
       "1       -0.174359\n",
       "2        0.125000\n",
       "3       -0.062500\n",
       "4       -0.045926\n",
       "           ...   \n",
       "35829   -0.020362\n",
       "35830   -0.041701\n",
       "35831    0.064621\n",
       "35832    0.000409\n",
       "35833   -0.019877\n",
       "Name: RET, Length: 35319, dtype: float64"
      ]
     },
     "execution_count": 3,
     "metadata": {},
     "output_type": "execute_result"
    }
   ],
   "source": [
    "#Adding Year, Month, and Day columns to the BankData Dataframe \n",
    "#This makes it easier to access the specific rows that we want\n",
    "\n",
    "#Initializing the arrays that will store the Year, Month, and Day of all the rows in the BankData DataFrame\n",
    "Year = []\n",
    "Month = []\n",
    "Day = []\n",
    "\n",
    "for i in Bank_Data[\"date\"]:    \n",
    "    #Getting the Year, Month, and Day for each row in BankData DataFrame\n",
    "    Year.append((datetime.datetime.strptime(str(i), \"%Y%m%d\")).year)\n",
    "    Month.append((datetime.datetime.strptime(str(i), \"%Y%m%d\")).month)\n",
    "    Day.append((datetime.datetime.strptime(str(i), \"%Y%m%d\")).day)\n",
    "    \n",
    "#Adding the Year, Month, and Day arrays as columns to the BankData DataFrame\n",
    "Bank_Data[\"Year\"] = Year\n",
    "Bank_Data[\"Month\"] = Month\n",
    "Bank_Data[\"Day\"] = Day\n",
    "\n",
    "#Dropping Rows with Null Return Values\n",
    "Bank_Data = Bank_Data.dropna(axis=0, subset=['RET'])\n",
    "#Dropping Rows with values B and C\n",
    "Bank_Data.drop(Bank_Data[Bank_Data.RET == 'B'].index, inplace=True)\n",
    "Bank_Data.drop(Bank_Data[Bank_Data.RET == 'C'].index, inplace=True)\n",
    "#Converting the Return Column to type Float\n",
    "Bank_Data[\"RET\"].astype(str).astype(float)"
   ]
  },
  {
   "cell_type": "code",
   "execution_count": 4,
   "metadata": {},
   "outputs": [
    {
     "data": {
      "text/plain": [
       "0       -0.082353\n",
       "1       -0.174359\n",
       "2        0.125000\n",
       "3       -0.062500\n",
       "4       -0.045926\n",
       "           ...   \n",
       "35829   -0.020362\n",
       "35830   -0.041701\n",
       "35831    0.064621\n",
       "35832    0.000409\n",
       "35833   -0.019877\n",
       "Name: RET, Length: 35319, dtype: float64"
      ]
     },
     "execution_count": 4,
     "metadata": {},
     "output_type": "execute_result"
    }
   ],
   "source": [
    "Bank_Data.drop(Bank_Data[Bank_Data.RET == 'B'].index, inplace=True)\n",
    "Bank_Data.drop(Bank_Data[Bank_Data.RET == 'C'].index, inplace=True)\n",
    "Bank_Data[\"RET\"].astype(str).astype(float)"
   ]
  },
  {
   "cell_type": "code",
   "execution_count": 5,
   "metadata": {},
   "outputs": [],
   "source": [
    "#Adding Year, Month, and Day columns to the RiskFactor Dataframe \n",
    "#This makes it easier to access the specific rows that we want\n",
    "\n",
    "#Initializing the arrays that will store the Year, Month, and Day of all the rows in the RiskFactor DataFrame\n",
    "Year = []\n",
    "Month = []\n",
    "Day = []\n",
    "\n",
    "for i in RF_Data[\"Date\"]:    \n",
    "    #Getting the Year, Month, and Day for each row in the RiskFactor DataFrame\n",
    "    Year.append((datetime.datetime.strptime(i, \"%Y-%m-%d\")).year)\n",
    "    Month.append((datetime.datetime.strptime(i, \"%Y-%m-%d\")).month)\n",
    "    Day.append((datetime.datetime.strptime(i, \"%Y-%m-%d\")).day)\n",
    "    \n",
    "#Adding the Year, Month, and Day arrays as columns to the RiskFactor DataFrame\n",
    "RF_Data[\"Year\"] = Year\n",
    "RF_Data[\"Month\"] = Month\n",
    "RF_Data[\"Day\"] = Day"
   ]
  },
  {
   "cell_type": "code",
   "execution_count": 6,
   "metadata": {},
   "outputs": [
    {
     "data": {
      "text/html": [
       "<div>\n",
       "<style scoped>\n",
       "    .dataframe tbody tr th:only-of-type {\n",
       "        vertical-align: middle;\n",
       "    }\n",
       "\n",
       "    .dataframe tbody tr th {\n",
       "        vertical-align: top;\n",
       "    }\n",
       "\n",
       "    .dataframe thead th {\n",
       "        text-align: right;\n",
       "    }\n",
       "</style>\n",
       "<table border=\"1\" class=\"dataframe\">\n",
       "  <thead>\n",
       "    <tr style=\"text-align: right;\">\n",
       "      <th></th>\n",
       "      <th>PERMNO</th>\n",
       "      <th>date</th>\n",
       "      <th>SICCD</th>\n",
       "      <th>COMNAM</th>\n",
       "      <th>PERMCO</th>\n",
       "      <th>CUSIP</th>\n",
       "      <th>RET</th>\n",
       "      <th>Year</th>\n",
       "      <th>Month</th>\n",
       "      <th>Day</th>\n",
       "    </tr>\n",
       "  </thead>\n",
       "  <tbody>\n",
       "    <tr>\n",
       "      <th>0</th>\n",
       "      <td>10071</td>\n",
       "      <td>19920331</td>\n",
       "      <td>6211</td>\n",
       "      <td>ALEX BROWN INC</td>\n",
       "      <td>8015</td>\n",
       "      <td>1390210</td>\n",
       "      <td>-0.082353</td>\n",
       "      <td>1992</td>\n",
       "      <td>3</td>\n",
       "      <td>31</td>\n",
       "    </tr>\n",
       "    <tr>\n",
       "      <th>1</th>\n",
       "      <td>10071</td>\n",
       "      <td>19920430</td>\n",
       "      <td>6211</td>\n",
       "      <td>ALEX BROWN INC</td>\n",
       "      <td>8015</td>\n",
       "      <td>1390210</td>\n",
       "      <td>-0.174359</td>\n",
       "      <td>1992</td>\n",
       "      <td>4</td>\n",
       "      <td>30</td>\n",
       "    </tr>\n",
       "    <tr>\n",
       "      <th>2</th>\n",
       "      <td>10071</td>\n",
       "      <td>19920529</td>\n",
       "      <td>6211</td>\n",
       "      <td>ALEX BROWN INC</td>\n",
       "      <td>8015</td>\n",
       "      <td>1390210</td>\n",
       "      <td>0.125</td>\n",
       "      <td>1992</td>\n",
       "      <td>5</td>\n",
       "      <td>29</td>\n",
       "    </tr>\n",
       "    <tr>\n",
       "      <th>3</th>\n",
       "      <td>10071</td>\n",
       "      <td>19920630</td>\n",
       "      <td>6211</td>\n",
       "      <td>ALEX BROWN INC</td>\n",
       "      <td>8015</td>\n",
       "      <td>1390210</td>\n",
       "      <td>-0.0625</td>\n",
       "      <td>1992</td>\n",
       "      <td>6</td>\n",
       "      <td>30</td>\n",
       "    </tr>\n",
       "    <tr>\n",
       "      <th>4</th>\n",
       "      <td>10071</td>\n",
       "      <td>19920731</td>\n",
       "      <td>6211</td>\n",
       "      <td>ALEX BROWN INC</td>\n",
       "      <td>8015</td>\n",
       "      <td>1390210</td>\n",
       "      <td>-0.045926</td>\n",
       "      <td>1992</td>\n",
       "      <td>7</td>\n",
       "      <td>31</td>\n",
       "    </tr>\n",
       "  </tbody>\n",
       "</table>\n",
       "</div>"
      ],
      "text/plain": [
       "   PERMNO      date  SICCD          COMNAM  PERMCO    CUSIP        RET  Year  \\\n",
       "0   10071  19920331   6211  ALEX BROWN INC    8015  1390210  -0.082353  1992   \n",
       "1   10071  19920430   6211  ALEX BROWN INC    8015  1390210  -0.174359  1992   \n",
       "2   10071  19920529   6211  ALEX BROWN INC    8015  1390210      0.125  1992   \n",
       "3   10071  19920630   6211  ALEX BROWN INC    8015  1390210    -0.0625  1992   \n",
       "4   10071  19920731   6211  ALEX BROWN INC    8015  1390210  -0.045926  1992   \n",
       "\n",
       "   Month  Day  \n",
       "0      3   31  \n",
       "1      4   30  \n",
       "2      5   29  \n",
       "3      6   30  \n",
       "4      7   31  "
      ]
     },
     "execution_count": 6,
     "metadata": {},
     "output_type": "execute_result"
    }
   ],
   "source": [
    "#First few rows of BankData DataFrame\n",
    "Bank_Data.head()"
   ]
  },
  {
   "cell_type": "code",
   "execution_count": 7,
   "metadata": {},
   "outputs": [
    {
     "data": {
      "text/html": [
       "<div>\n",
       "<style scoped>\n",
       "    .dataframe tbody tr th:only-of-type {\n",
       "        vertical-align: middle;\n",
       "    }\n",
       "\n",
       "    .dataframe tbody tr th {\n",
       "        vertical-align: top;\n",
       "    }\n",
       "\n",
       "    .dataframe thead th {\n",
       "        text-align: right;\n",
       "    }\n",
       "</style>\n",
       "<table border=\"1\" class=\"dataframe\">\n",
       "  <thead>\n",
       "    <tr style=\"text-align: right;\">\n",
       "      <th></th>\n",
       "      <th>Date</th>\n",
       "      <th>BOND</th>\n",
       "      <th>CREDIT</th>\n",
       "      <th>SP500</th>\n",
       "      <th>CMDTY</th>\n",
       "      <th>DVIX</th>\n",
       "      <th>DHOUSE</th>\n",
       "      <th>Unnamed: 7</th>\n",
       "      <th>Year</th>\n",
       "      <th>Month</th>\n",
       "      <th>Day</th>\n",
       "    </tr>\n",
       "  </thead>\n",
       "  <tbody>\n",
       "    <tr>\n",
       "      <th>0</th>\n",
       "      <td>1975-02-01</td>\n",
       "      <td>0.0388</td>\n",
       "      <td>-14.02</td>\n",
       "      <td>0.1386</td>\n",
       "      <td>-0.1654</td>\n",
       "      <td>-3.8780</td>\n",
       "      <td>0.0024</td>\n",
       "      <td>NaN</td>\n",
       "      <td>1975</td>\n",
       "      <td>2</td>\n",
       "      <td>1</td>\n",
       "    </tr>\n",
       "    <tr>\n",
       "      <th>1</th>\n",
       "      <td>1975-03-01</td>\n",
       "      <td>0.0157</td>\n",
       "      <td>-12.54</td>\n",
       "      <td>0.0702</td>\n",
       "      <td>-0.1036</td>\n",
       "      <td>-1.6952</td>\n",
       "      <td>0.0004</td>\n",
       "      <td>NaN</td>\n",
       "      <td>1975</td>\n",
       "      <td>3</td>\n",
       "      <td>1</td>\n",
       "    </tr>\n",
       "    <tr>\n",
       "      <th>2</th>\n",
       "      <td>1975-04-01</td>\n",
       "      <td>-0.0142</td>\n",
       "      <td>-12.71</td>\n",
       "      <td>-0.0014</td>\n",
       "      <td>0.0908</td>\n",
       "      <td>-0.3795</td>\n",
       "      <td>-0.0012</td>\n",
       "      <td>NaN</td>\n",
       "      <td>1975</td>\n",
       "      <td>4</td>\n",
       "      <td>1</td>\n",
       "    </tr>\n",
       "    <tr>\n",
       "      <th>3</th>\n",
       "      <td>1975-05-01</td>\n",
       "      <td>-0.0093</td>\n",
       "      <td>-12.02</td>\n",
       "      <td>0.0691</td>\n",
       "      <td>-0.0435</td>\n",
       "      <td>-1.0668</td>\n",
       "      <td>0.0004</td>\n",
       "      <td>NaN</td>\n",
       "      <td>1975</td>\n",
       "      <td>5</td>\n",
       "      <td>1</td>\n",
       "    </tr>\n",
       "    <tr>\n",
       "      <th>4</th>\n",
       "      <td>1975-06-01</td>\n",
       "      <td>0.0120</td>\n",
       "      <td>-12.81</td>\n",
       "      <td>0.0538</td>\n",
       "      <td>-0.0270</td>\n",
       "      <td>-0.9265</td>\n",
       "      <td>0.0008</td>\n",
       "      <td>NaN</td>\n",
       "      <td>1975</td>\n",
       "      <td>6</td>\n",
       "      <td>1</td>\n",
       "    </tr>\n",
       "  </tbody>\n",
       "</table>\n",
       "</div>"
      ],
      "text/plain": [
       "         Date    BOND  CREDIT   SP500   CMDTY    DVIX  DHOUSE  Unnamed: 7  \\\n",
       "0  1975-02-01  0.0388  -14.02  0.1386 -0.1654 -3.8780  0.0024         NaN   \n",
       "1  1975-03-01  0.0157  -12.54  0.0702 -0.1036 -1.6952  0.0004         NaN   \n",
       "2  1975-04-01 -0.0142  -12.71 -0.0014  0.0908 -0.3795 -0.0012         NaN   \n",
       "3  1975-05-01 -0.0093  -12.02  0.0691 -0.0435 -1.0668  0.0004         NaN   \n",
       "4  1975-06-01  0.0120  -12.81  0.0538 -0.0270 -0.9265  0.0008         NaN   \n",
       "\n",
       "   Year  Month  Day  \n",
       "0  1975      2    1  \n",
       "1  1975      3    1  \n",
       "2  1975      4    1  \n",
       "3  1975      5    1  \n",
       "4  1975      6    1  "
      ]
     },
     "execution_count": 7,
     "metadata": {},
     "output_type": "execute_result"
    }
   ],
   "source": [
    "#First few rows of RiskFactor DataFrame\n",
    "RF_Data.head()"
   ]
  },
  {
   "cell_type": "markdown",
   "metadata": {},
   "source": [
    "# Initializing the Return Table"
   ]
  },
  {
   "cell_type": "code",
   "execution_count": 8,
   "metadata": {},
   "outputs": [],
   "source": [
    "#Initializing the Return_Table that will consist of all the Bank Returns, and the corresponding Risk Factor Returns\n",
    "Return_Table = []\n",
    "Return_Table = pd.DataFrame(Return_Table)\n",
    "\n",
    "#Adding Columns for the Year, Month, and Day (allows us to easily retrieve the corresponding Risk Factor Returns (by date))\n",
    "Return_Table[\"Year\"] = Bank_Data[\"Year\"]\n",
    "Return_Table[\"Month\"] = Bank_Data[\"Month\"]\n",
    "Return_Table[\"Day\"] = Bank_Data[\"Day\"]\n",
    "\n",
    "#Adding a PERMNO column(to be able to identify the firms), and a column consisting of all the Bank Returns\n",
    "Return_Table[\"PERMNO\"] = Bank_Data[\"PERMNO\"]\n",
    "Return_Table[\"Return\"] = Bank_Data[\"RET\"]"
   ]
  },
  {
   "cell_type": "markdown",
   "metadata": {},
   "source": [
    "### Adding the Risk Factor Returns to the Return Table"
   ]
  },
  {
   "cell_type": "code",
   "execution_count": 9,
   "metadata": {},
   "outputs": [],
   "source": [
    "#Initializing a Return Array for each Risk Factor\n",
    "BOND = []\n",
    "CREDIT = []\n",
    "SP500 = []\n",
    "CMDTY = []\n",
    "DVIX = []\n",
    "DHOUSE = []"
   ]
  },
  {
   "cell_type": "code",
   "execution_count": 10,
   "metadata": {},
   "outputs": [],
   "source": [
    "#Adding all the corresponding Risk Factor Return values for each Bank Return entry (by date)\n",
    "#Looping through the Bank Data DataFrame to find the Risk Factor returns for each date\n",
    "for index, i in Bank_Data.iterrows():\n",
    "    \n",
    "    #Determining the year and month of row\n",
    "    year = RF_Data[\"Year\"] == i[\"Year\"]\n",
    "    month = RF_Data[\"Month\"] == i[\"Month\"]\n",
    "    \n",
    "    #Determining the row of Risk Factor Returns for the given date (year & month)\n",
    "    Value = RF_Data[year & month]\n",
    "    \n",
    "    #Appending the Risk Factor Returns for the given date (year & month)\n",
    "    BOND.append(np.array(Value[\"BOND\"]))\n",
    "    CREDIT.append(np.array(Value[\"CREDIT\"]))\n",
    "    SP500.append(np.array(Value[\"SP500\"]))\n",
    "    CMDTY.append(np.array(Value[\"CMDTY\"]))\n",
    "    DVIX.append(np.array(Value[\"DVIX\"]))\n",
    "    DHOUSE.append(np.array(Value[\"DHOUSE\"]))"
   ]
  },
  {
   "cell_type": "code",
   "execution_count": 11,
   "metadata": {},
   "outputs": [],
   "source": [
    "#Adding all of the Corresponding Risk Factor Return Arrays to the DataFrame\n",
    "Return_Table[\"BOND\"] = BOND\n",
    "Return_Table[\"CREDIT\"] = CREDIT\n",
    "Return_Table[\"SP500\"] = SP500\n",
    "Return_Table[\"CMDTY\"] = CMDTY\n",
    "Return_Table[\"DVIX\"] = DVIX\n",
    "Return_Table[\"DHOUSE\"] = DHOUSE"
   ]
  },
  {
   "cell_type": "code",
   "execution_count": 12,
   "metadata": {},
   "outputs": [
    {
     "data": {
      "text/html": [
       "<div>\n",
       "<style scoped>\n",
       "    .dataframe tbody tr th:only-of-type {\n",
       "        vertical-align: middle;\n",
       "    }\n",
       "\n",
       "    .dataframe tbody tr th {\n",
       "        vertical-align: top;\n",
       "    }\n",
       "\n",
       "    .dataframe thead th {\n",
       "        text-align: right;\n",
       "    }\n",
       "</style>\n",
       "<table border=\"1\" class=\"dataframe\">\n",
       "  <thead>\n",
       "    <tr style=\"text-align: right;\">\n",
       "      <th></th>\n",
       "      <th>Year</th>\n",
       "      <th>Month</th>\n",
       "      <th>Day</th>\n",
       "      <th>PERMNO</th>\n",
       "      <th>Return</th>\n",
       "      <th>BOND</th>\n",
       "      <th>CREDIT</th>\n",
       "      <th>SP500</th>\n",
       "      <th>CMDTY</th>\n",
       "      <th>DVIX</th>\n",
       "      <th>DHOUSE</th>\n",
       "    </tr>\n",
       "  </thead>\n",
       "  <tbody>\n",
       "    <tr>\n",
       "      <th>0</th>\n",
       "      <td>1992</td>\n",
       "      <td>3</td>\n",
       "      <td>31</td>\n",
       "      <td>10071</td>\n",
       "      <td>-0.082353</td>\n",
       "      <td>[-0.0015]</td>\n",
       "      <td>[-3.676]</td>\n",
       "      <td>[0.0106]</td>\n",
       "      <td>[-0.0237]</td>\n",
       "      <td>[-0.5]</td>\n",
       "      <td>[0.0016]</td>\n",
       "    </tr>\n",
       "    <tr>\n",
       "      <th>1</th>\n",
       "      <td>1992</td>\n",
       "      <td>4</td>\n",
       "      <td>30</td>\n",
       "      <td>10071</td>\n",
       "      <td>-0.174359</td>\n",
       "      <td>[-0.0124]</td>\n",
       "      <td>[-3.344]</td>\n",
       "      <td>[-0.0178]</td>\n",
       "      <td>[0.0306]</td>\n",
       "      <td>[-0.65]</td>\n",
       "      <td>[0.0009]</td>\n",
       "    </tr>\n",
       "    <tr>\n",
       "      <th>2</th>\n",
       "      <td>1992</td>\n",
       "      <td>5</td>\n",
       "      <td>29</td>\n",
       "      <td>10071</td>\n",
       "      <td>0.125</td>\n",
       "      <td>[-0.0006]</td>\n",
       "      <td>[-3.179]</td>\n",
       "      <td>[0.022]</td>\n",
       "      <td>[0.0231]</td>\n",
       "      <td>[-1.67]</td>\n",
       "      <td>[0.0007]</td>\n",
       "    </tr>\n",
       "    <tr>\n",
       "      <th>3</th>\n",
       "      <td>1992</td>\n",
       "      <td>6</td>\n",
       "      <td>30</td>\n",
       "      <td>10071</td>\n",
       "      <td>-0.0625</td>\n",
       "      <td>[0.0066]</td>\n",
       "      <td>[-3.319]</td>\n",
       "      <td>[0.0159]</td>\n",
       "      <td>[0.0243]</td>\n",
       "      <td>[-0.51]</td>\n",
       "      <td>[-0.0008]</td>\n",
       "    </tr>\n",
       "    <tr>\n",
       "      <th>4</th>\n",
       "      <td>1992</td>\n",
       "      <td>7</td>\n",
       "      <td>31</td>\n",
       "      <td>10071</td>\n",
       "      <td>-0.045926</td>\n",
       "      <td>[0.0078]</td>\n",
       "      <td>[-3.212]</td>\n",
       "      <td>[-0.0084]</td>\n",
       "      <td>[-0.0041]</td>\n",
       "      <td>[-0.18]</td>\n",
       "      <td>[-0.0008]</td>\n",
       "    </tr>\n",
       "  </tbody>\n",
       "</table>\n",
       "</div>"
      ],
      "text/plain": [
       "   Year  Month  Day  PERMNO     Return       BOND    CREDIT      SP500  \\\n",
       "0  1992      3   31   10071  -0.082353  [-0.0015]  [-3.676]   [0.0106]   \n",
       "1  1992      4   30   10071  -0.174359  [-0.0124]  [-3.344]  [-0.0178]   \n",
       "2  1992      5   29   10071      0.125  [-0.0006]  [-3.179]    [0.022]   \n",
       "3  1992      6   30   10071    -0.0625   [0.0066]  [-3.319]   [0.0159]   \n",
       "4  1992      7   31   10071  -0.045926   [0.0078]  [-3.212]  [-0.0084]   \n",
       "\n",
       "       CMDTY     DVIX     DHOUSE  \n",
       "0  [-0.0237]   [-0.5]   [0.0016]  \n",
       "1   [0.0306]  [-0.65]   [0.0009]  \n",
       "2   [0.0231]  [-1.67]   [0.0007]  \n",
       "3   [0.0243]  [-0.51]  [-0.0008]  \n",
       "4  [-0.0041]  [-0.18]  [-0.0008]  "
      ]
     },
     "execution_count": 12,
     "metadata": {},
     "output_type": "execute_result"
    }
   ],
   "source": [
    "#First few rows of ReturnTable DataFrame\n",
    "Return_Table.head()"
   ]
  },
  {
   "cell_type": "markdown",
   "metadata": {},
   "source": [
    "# Coefficient (Beta) DataFrame Creation"
   ]
  },
  {
   "cell_type": "code",
   "execution_count": 13,
   "metadata": {},
   "outputs": [],
   "source": [
    "def DateFunction(Return_Table, PERMNO, start_year, end_year, start_month, end_month):\n",
    "    \n",
    "    Coefficient_Table = []\n",
    "    \n",
    "    #Iterate over all firms\n",
    "    for i in PERMNO:\n",
    "\n",
    "        #Initializing the Coefficient_Table Array\n",
    "        #Create a Return table for each firm - consisting of only the dates that have been specified\n",
    "        Single_Firm = Return_Table.loc[Return_Table['PERMNO'] == i]\n",
    "        \n",
    "        #Modifying the DataFrame to only include returns from the specified dates\n",
    "        Single_Firm = Single_Firm.loc[(Single_Firm.Year >= start_year) & (Single_Firm.Year <= end_year)]\n",
    "        #Only including the dates that are after the start month of the start year\n",
    "        Single_Firm = Single_Firm.loc[(Single_Firm.Month >= start_month) | (Single_Firm.Year > start_year)]\n",
    "        #Only including the dates that are before the end month of the end year\n",
    "        Single_Firm = Single_Firm.loc[(Single_Firm.Month <= end_month) | (Single_Firm.Year < end_year)]\n",
    "\n",
    "        #Setting the X Variables to be regressed on (Risk Factors), and setting the Y Variable that will be regressed (Bank Returns)\n",
    "        y = Single_Firm['Return']\n",
    "        x = Single_Firm[['BOND', 'CREDIT', 'SP500', 'CMDTY', 'DVIX', 'DHOUSE']]\n",
    "\n",
    "        #Conducting the Linear Regression\n",
    "        if len(x['BOND']) > 1:\n",
    "            \n",
    "            reg = LinearRegression()\n",
    "            reg = LinearRegression().fit(x, y)\n",
    "\n",
    "            Coefficients = (reg.coef_)\n",
    "            Coefficient_Table.append(Coefficients)\n",
    "    \n",
    "    #Formatting the Coefficient Table as a DataFrame\n",
    "    Coefficient_Table = pd.DataFrame(Coefficient_Table, columns = [\"BOND\", \"CREDIT\", \"SP500\", \"CMDTY\", \"DVIX\", \"DHOUSE\"])\n",
    "    return Coefficient_Table"
   ]
  },
  {
   "cell_type": "code",
   "execution_count": 14,
   "metadata": {},
   "outputs": [
    {
     "data": {
      "text/html": [
       "<div>\n",
       "<style scoped>\n",
       "    .dataframe tbody tr th:only-of-type {\n",
       "        vertical-align: middle;\n",
       "    }\n",
       "\n",
       "    .dataframe tbody tr th {\n",
       "        vertical-align: top;\n",
       "    }\n",
       "\n",
       "    .dataframe thead th {\n",
       "        text-align: right;\n",
       "    }\n",
       "</style>\n",
       "<table border=\"1\" class=\"dataframe\">\n",
       "  <thead>\n",
       "    <tr style=\"text-align: right;\">\n",
       "      <th></th>\n",
       "      <th>BOND</th>\n",
       "      <th>CREDIT</th>\n",
       "      <th>SP500</th>\n",
       "      <th>CMDTY</th>\n",
       "      <th>DVIX</th>\n",
       "      <th>DHOUSE</th>\n",
       "    </tr>\n",
       "  </thead>\n",
       "  <tbody>\n",
       "    <tr>\n",
       "      <th>0</th>\n",
       "      <td>-0.634473</td>\n",
       "      <td>0.014132</td>\n",
       "      <td>0.370269</td>\n",
       "      <td>0.350488</td>\n",
       "      <td>-0.018895</td>\n",
       "      <td>-17.207150</td>\n",
       "    </tr>\n",
       "    <tr>\n",
       "      <th>1</th>\n",
       "      <td>0.223860</td>\n",
       "      <td>-0.050587</td>\n",
       "      <td>-0.605033</td>\n",
       "      <td>-0.123392</td>\n",
       "      <td>0.001355</td>\n",
       "      <td>-60.962544</td>\n",
       "    </tr>\n",
       "    <tr>\n",
       "      <th>2</th>\n",
       "      <td>-0.028075</td>\n",
       "      <td>0.013901</td>\n",
       "      <td>0.002666</td>\n",
       "      <td>0.006515</td>\n",
       "      <td>-0.067879</td>\n",
       "      <td>0.000005</td>\n",
       "    </tr>\n",
       "    <tr>\n",
       "      <th>3</th>\n",
       "      <td>2.402920</td>\n",
       "      <td>-0.028174</td>\n",
       "      <td>1.461891</td>\n",
       "      <td>0.194486</td>\n",
       "      <td>-0.006493</td>\n",
       "      <td>37.999110</td>\n",
       "    </tr>\n",
       "    <tr>\n",
       "      <th>4</th>\n",
       "      <td>0.195546</td>\n",
       "      <td>-0.031802</td>\n",
       "      <td>0.492382</td>\n",
       "      <td>-0.331654</td>\n",
       "      <td>0.001006</td>\n",
       "      <td>11.662366</td>\n",
       "    </tr>\n",
       "    <tr>\n",
       "      <th>...</th>\n",
       "      <td>...</td>\n",
       "      <td>...</td>\n",
       "      <td>...</td>\n",
       "      <td>...</td>\n",
       "      <td>...</td>\n",
       "      <td>...</td>\n",
       "    </tr>\n",
       "    <tr>\n",
       "      <th>64</th>\n",
       "      <td>-8.182806</td>\n",
       "      <td>-0.489502</td>\n",
       "      <td>2.778228</td>\n",
       "      <td>-3.121804</td>\n",
       "      <td>0.020088</td>\n",
       "      <td>61.614551</td>\n",
       "    </tr>\n",
       "    <tr>\n",
       "      <th>65</th>\n",
       "      <td>0.093442</td>\n",
       "      <td>-0.320406</td>\n",
       "      <td>0.128247</td>\n",
       "      <td>0.015237</td>\n",
       "      <td>0.001289</td>\n",
       "      <td>-0.002002</td>\n",
       "    </tr>\n",
       "    <tr>\n",
       "      <th>66</th>\n",
       "      <td>-9.370323</td>\n",
       "      <td>-0.346071</td>\n",
       "      <td>1.356785</td>\n",
       "      <td>-0.929786</td>\n",
       "      <td>0.013584</td>\n",
       "      <td>-133.734773</td>\n",
       "    </tr>\n",
       "    <tr>\n",
       "      <th>67</th>\n",
       "      <td>-1.237850</td>\n",
       "      <td>-0.003816</td>\n",
       "      <td>0.725190</td>\n",
       "      <td>0.024368</td>\n",
       "      <td>-0.002587</td>\n",
       "      <td>-17.437861</td>\n",
       "    </tr>\n",
       "    <tr>\n",
       "      <th>68</th>\n",
       "      <td>-1.320542</td>\n",
       "      <td>0.014660</td>\n",
       "      <td>0.183967</td>\n",
       "      <td>-0.558462</td>\n",
       "      <td>0.004920</td>\n",
       "      <td>-47.126431</td>\n",
       "    </tr>\n",
       "  </tbody>\n",
       "</table>\n",
       "<p>69 rows × 6 columns</p>\n",
       "</div>"
      ],
      "text/plain": [
       "        BOND    CREDIT     SP500     CMDTY      DVIX      DHOUSE\n",
       "0  -0.634473  0.014132  0.370269  0.350488 -0.018895  -17.207150\n",
       "1   0.223860 -0.050587 -0.605033 -0.123392  0.001355  -60.962544\n",
       "2  -0.028075  0.013901  0.002666  0.006515 -0.067879    0.000005\n",
       "3   2.402920 -0.028174  1.461891  0.194486 -0.006493   37.999110\n",
       "4   0.195546 -0.031802  0.492382 -0.331654  0.001006   11.662366\n",
       "..       ...       ...       ...       ...       ...         ...\n",
       "64 -8.182806 -0.489502  2.778228 -3.121804  0.020088   61.614551\n",
       "65  0.093442 -0.320406  0.128247  0.015237  0.001289   -0.002002\n",
       "66 -9.370323 -0.346071  1.356785 -0.929786  0.013584 -133.734773\n",
       "67 -1.237850 -0.003816  0.725190  0.024368 -0.002587  -17.437861\n",
       "68 -1.320542  0.014660  0.183967 -0.558462  0.004920  -47.126431\n",
       "\n",
       "[69 rows x 6 columns]"
      ]
     },
     "execution_count": 14,
     "metadata": {},
     "output_type": "execute_result"
    }
   ],
   "source": [
    "PERMNO = Bank_Data[\"PERMNO\"].unique()\n",
    "Coefficient_Table = DateFunction(Return_Table, PERMNO, 1994, 1996, 2, 10)\n",
    "Coefficient_Table"
   ]
  },
  {
   "cell_type": "markdown",
   "metadata": {},
   "source": [
    "# Statistical Analysis"
   ]
  },
  {
   "cell_type": "markdown",
   "metadata": {},
   "source": [
    "## Running PCA to Determine the Level of Correlation"
   ]
  },
  {
   "cell_type": "code",
   "execution_count": 15,
   "metadata": {},
   "outputs": [
    {
     "data": {
      "image/png": "[encoded data removed]",
      "text/plain": [
       "<Figure size 432x288 with 1 Axes>"
      ]
     },
     "metadata": {
      "needs_background": "light"
     },
     "output_type": "display_data"
    }
   ],
   "source": [
    "#Creating the Elbow Plot showing the Proportion of Variance explained by the Eigenvectors\n",
    "plt.plot(range(1,7), PCA(Coefficient_Table)[1])\n",
    "plt.title('Eigenvalue Variance')\n",
    "plt.xlabel('Eigen Vector')\n",
    "plt.ylabel('Proportion of Variance')\n",
    "plt.show()"
   ]
  },
  {
   "cell_type": "markdown",
   "metadata": {},
   "source": [
    "Cumulative Proportion of Variance"
   ]
  },
  {
   "cell_type": "code",
   "execution_count": 16,
   "metadata": {},
   "outputs": [
    {
     "data": {
      "image/png": "[encoded data removed]",
      "text/plain": [
       "<Figure size 432x288 with 1 Axes>"
      ]
     },
     "metadata": {
      "needs_background": "light"
     },
     "output_type": "display_data"
    }
   ],
   "source": [
    "#Creating the Elbow Plot showing the Cumulative Proportion of Variance\n",
    "plt.plot(range(1,7), PCA(Coefficient_Table)[2])\n",
    "plt.title('Cumulative Eigenvalue Variance')\n",
    "plt.xlabel('Eigen Vector')\n",
    "plt.ylabel('Cumulative Proportion of Variance')\n",
    "plt.show()"
   ]
  },
  {
   "cell_type": "markdown",
   "metadata": {},
   "source": [
    "## Determining the Distance of the Points from the Line of Complete Systemic Risk"
   ]
  },
  {
   "cell_type": "code",
   "execution_count": 17,
   "metadata": {},
   "outputs": [
    {
     "data": {
      "text/plain": [
       "-15.052362674074683"
      ]
     },
     "execution_count": 17,
     "metadata": {},
     "output_type": "execute_result"
    }
   ],
   "source": [
    "Distance_Function(Coefficient_Table)"
   ]
  },
  {
   "cell_type": "markdown",
   "metadata": {},
   "source": [
    "Standard Deviation of the Distances of all Firms"
   ]
  },
  {
   "cell_type": "code",
   "execution_count": 18,
   "metadata": {},
   "outputs": [
    {
     "data": {
      "text/plain": [
       "96.29165070606948"
      ]
     },
     "execution_count": 18,
     "metadata": {},
     "output_type": "execute_result"
    }
   ],
   "source": [
    "Distance_SD_Function(Coefficient_Table)"
   ]
  },
  {
   "cell_type": "markdown",
   "metadata": {},
   "source": [
    "## Squared Weighted Systemic Risk"
   ]
  },
  {
   "cell_type": "code",
   "execution_count": 19,
   "metadata": {},
   "outputs": [
    {
     "data": {
      "text/plain": [
       "201.17759359470006"
      ]
     },
     "execution_count": 19,
     "metadata": {},
     "output_type": "execute_result"
    }
   ],
   "source": [
    "Squared_Beta_Function(Coefficient_Table)"
   ]
  },
  {
   "cell_type": "markdown",
   "metadata": {},
   "source": [
    "## Measuring Clustering via the SD of the Points from the Mean Point"
   ]
  },
  {
   "cell_type": "code",
   "execution_count": 20,
   "metadata": {},
   "outputs": [
    {
     "data": {
      "text/plain": [
       "84.14480019906664"
      ]
     },
     "execution_count": 20,
     "metadata": {},
     "output_type": "execute_result"
    }
   ],
   "source": [
    "Clustering_SD_Function(Coefficient_Table)"
   ]
  },
  {
   "cell_type": "markdown",
   "metadata": {},
   "source": [
    "## Running K-Means Clustering"
   ]
  },
  {
   "cell_type": "code",
   "execution_count": 21,
   "metadata": {},
   "outputs": [
    {
     "data": {
      "image/png": "[encoded data removed]",
      "text/plain": [
       "<Figure size 432x288 with 1 Axes>"
      ]
     },
     "metadata": {
      "needs_background": "light"
     },
     "output_type": "display_data"
    }
   ],
   "source": [
    "plt.plot(range(1, 11), KMeans_Clustering(Coefficient_Table))\n",
    "plt.title('Elbow Method')\n",
    "plt.xlabel('Number of clusters')\n",
    "plt.ylabel('SSE')\n",
    "plt.show()"
   ]
  },
  {
   "cell_type": "markdown",
   "metadata": {},
   "source": [
    "# Constructing Distributions (unfinished)"
   ]
  },
  {
   "cell_type": "code",
   "execution_count": 22,
   "metadata": {},
   "outputs": [],
   "source": [
    "def Generate_Dates(\n",
    "    num_iterations: int,\n",
    "    num_counter: int,\n",
    "    start_year: int,\n",
    "    end_year: int,\n",
    "    start_month: int,\n",
    "    end_month: int\n",
    "\n",
    "):\n",
    "    Dates = []\n",
    "\n",
    "    for i in range(num_iterations):\n",
    "       \n",
    "       #The Incremented Month numbers\n",
    "        s_value = start_month+(i*num_counter)\n",
    "        e_value = end_month+(i*num_counter)\n",
    "        \n",
    "        #Adjusting such that the month values are between 1 and 12\n",
    "        if s_value%12 == 0:\n",
    "            s_month = 12\n",
    "        else:\n",
    "            s_month = s_value%12\n",
    "        \n",
    "        if e_value%12 == 0:\n",
    "            e_month = 12\n",
    "        else:\n",
    "            e_month = e_value%12\n",
    "\n",
    "        #Finding the minimum number of times 12 divides wholly into the number of months\n",
    "        #This becomes the number of years to increment by\n",
    "        s_year = (s_value - s_value%12)/12\n",
    "        s_year = start_year+ s_year\n",
    "\n",
    "        e_year = (e_value - e_value%12)/12\n",
    "        e_year = end_year + e_year \n",
    "\n",
    "        #Appending the date to the 2D Array of all dates\n",
    "        date = [s_year, e_year, s_month, e_month]\n",
    "        Dates.append(date)\n",
    "    \n",
    "    Dates = pd.DataFrame(Dates)\n",
    "        \n",
    "    return(Dates)\n",
    "\n",
    "\n",
    "def Distribution_Construction(\n",
    "    Dates: np.ndarray,\n",
    "    Return_Table: np.ndarray,\n",
    "    PERMNO: np.ndarray,\n",
    "    Function\n",
    "):\n",
    "\n",
    "    Function_Distribution = []\n",
    "    num_iterations = Dates[0:][1]\n",
    "    \n",
    "    for i in range(len(num_iterations)):\n",
    "        start_year = Dates[0][i]\n",
    "        end_year = Dates[1][i]\n",
    "        start_month = Dates[2][i]\n",
    "        end_month = Dates[3][i]\n",
    "\n",
    "        #Calculating the Coefficient Table for each Date in the Dates Array\n",
    "        Coefficient_Table = DateFunction(Return_Table, PERMNO, start_year, end_year, start_month, end_month)\n",
    "\n",
    "        #Calculting the Values of Each Statistical Function\n",
    "        if Coefficient_Table.size > 1:\n",
    "            Function_Value = Function(Coefficient_Table)\n",
    "            Function_Distribution.append(Function_Value)\n",
    "        \n",
    "    return Function_Distribution\n"
   ]
  },
  {
   "cell_type": "code",
   "execution_count": 23,
   "metadata": {},
   "outputs": [],
   "source": [
    "Dates = Generate_Dates(8, 6, 1994, 1996, 12, 6)"
   ]
  },
  {
   "cell_type": "code",
   "execution_count": 24,
   "metadata": {},
   "outputs": [],
   "source": [
    "def Get_Market_Returns(\n",
    "    market_name: str,\n",
    "    RF_Data: np.ndarray,\n",
    "    Dates\n",
    "):\n",
    "    #Initializing the array which will containg the returns of the Market\n",
    "    Returns = np.array([])\n",
    "    \n",
    "    #Looping through all of the dates, and getting the appropriate Return\n",
    "    for i in range((Dates.index).size):\n",
    "        year = Dates[1][i]\n",
    "        month = Dates[3][i]\n",
    "\n",
    "        Return = RF_Data.loc[(RF_Data['Year'] == year) & (RF_Data['Month'] == month)]\n",
    "        Returns = np.append(Returns, Return[market_name])\n",
    "    \n",
    "    return Returns"
   ]
  },
  {
   "cell_type": "code",
   "execution_count": 25,
   "metadata": {},
   "outputs": [],
   "source": [
    "Returns = Get_Market_Returns('DVIX', RF_Data, Dates)"
   ]
  },
  {
   "cell_type": "markdown",
   "metadata": {},
   "source": [
    "Distributions"
   ]
  },
  {
   "cell_type": "code",
   "execution_count": 26,
   "metadata": {},
   "outputs": [],
   "source": [
    "Distribution = Distribution_Construction(Dates, Return_Table, PERMNO, Distance_Function)"
   ]
  },
  {
   "cell_type": "code",
   "execution_count": 27,
   "metadata": {},
   "outputs": [
    {
     "data": {
      "text/plain": [
       "<matplotlib.axes._subplots.AxesSubplot at 0x1d15569af10>"
      ]
     },
     "execution_count": 27,
     "metadata": {},
     "output_type": "execute_result"
    },
    {
     "data": {
      "image/png": "[encoded data removed]",
      "text/plain": [
       "<Figure size 432x288 with 1 Axes>"
      ]
     },
     "metadata": {
      "needs_background": "light"
     },
     "output_type": "display_data"
    }
   ],
   "source": [
    "#Creating the Distribution\n",
    "sb.distplot(Distribution, rug = True, hist = False, label = \"Distance Function\")"
   ]
  },
  {
   "cell_type": "markdown",
   "metadata": {},
   "source": [
    "Z Score"
   ]
  },
  {
   "cell_type": "code",
   "execution_count": 28,
   "metadata": {},
   "outputs": [],
   "source": [
    "def Z_Score_Function(\n",
    "    Statistical_Values: np.ndarray,\n",
    "    Market_Returns: np.ndarray\n",
    "):\n",
    "    #Initializing the X and Y Variables\n",
    "    x = np.array(Statistical_Values).reshape(-1,1)\n",
    "    y = Market_Returns\n",
    "\n",
    "    #Running the Linear Regression\n",
    "    Coefficients = []\n",
    "    reg = LinearRegression().fit(x,y)\n",
    "    Coefficients.append(reg.coef_)\n",
    "    Coefficients.append(reg.intercept_)\n",
    "\n",
    "    return Coefficients\n"
   ]
  },
  {
   "cell_type": "code",
   "execution_count": 29,
   "metadata": {},
   "outputs": [
    {
     "data": {
      "text/plain": [
       "[array([0.00283757]), -1.6568235879865165]"
      ]
     },
     "execution_count": 29,
     "metadata": {},
     "output_type": "execute_result"
    }
   ],
   "source": [
    "Z_Score_Function(Distribution, Returns)"
   ]
  },
  {
   "cell_type": "code",
   "execution_count": 30,
   "metadata": {},
   "outputs": [
    {
     "data": {
      "text/plain": [
       "[<matplotlib.lines.Line2D at 0x1d15573b280>]"
      ]
     },
     "execution_count": 30,
     "metadata": {},
     "output_type": "execute_result"
    },
    {
     "data": {
      "image/png": "[encoded data removed]",
      "text/plain": [
       "<Figure size 432x288 with 1 Axes>"
      ]
     },
     "metadata": {
      "needs_background": "light"
     },
     "output_type": "display_data"
    }
   ],
   "source": [
    "plt.plot(Distribution, Returns)"
   ]
  },
  {
   "cell_type": "code",
   "execution_count": null,
   "metadata": {},
   "outputs": [],
   "source": []
  }
 ],
 "metadata": {
  "kernelspec": {
   "display_name": "Python 3",
   "language": "python",
   "name": "python3"
  },
  "language_info": {
   "codemirror_mode": {
    "name": "ipython",
    "version": 3
   },
   "file_extension": ".py",
   "mimetype": "text/x-python",
   "name": "python",
   "nbconvert_exporter": "python",
   "pygments_lexer": "ipython3",
   "version": "3.8.3"
  }
 },
 "nbformat": 4,
 "nbformat_minor": 4
}
