{
 "cells": [
  {
   "cell_type": "markdown",
   "metadata": {},
   "source": [
    "# Imports"
   ]
  },
  {
   "cell_type": "code",
   "execution_count": 1,
   "metadata": {},
   "outputs": [],
   "source": [
    "from tqdm import tqdm\n",
    "import datetime\n",
    "import pandas as pd\n",
    "from sklearn.linear_model import LinearRegression\n",
    "import matplotlib.pyplot as plt\n",
    "import seaborn as sb\n",
    "import numpy as np\n",
    "import time, sys"
   ]
  },
  {
   "cell_type": "markdown",
   "metadata": {},
   "source": [
    "# Data Files"
   ]
  },
  {
   "cell_type": "code",
   "execution_count": 2,
   "metadata": {},
   "outputs": [],
   "source": [
    "RF_Data = pd.read_csv(\"C:\\\\Users\\\\Ritvik Bale\\\\Documents\\\\Systemic Risk Research\\\\Risk Factor Data v1.csv\")\n",
    "Bank_Data = pd.read_csv(\"C:\\\\Users\\\\Ritvik Bale\\\\Documents\\\\Systemic Risk Research\\\\Bank data v1 2020-08-24.csv\")\n",
    "\n",
    "RF_Data = pd.DataFrame(RF_Data)\n",
    "Bank_Data = pd.DataFrame(Bank_Data)"
   ]
  },
  {
   "cell_type": "markdown",
   "metadata": {},
   "source": [
    "# Risk Factor Data Formatting"
   ]
  },
  {
   "cell_type": "code",
   "execution_count": 3,
   "metadata": {},
   "outputs": [],
   "source": [
    "Return_Table = []\n",
    "Return_Table = pd.DataFrame(Return_Table)\n",
    "\n",
    "dates = []\n",
    "\n",
    "BOND = []\n",
    "CREDIT = []\n",
    "SP500 = []\n",
    "CMDTY = []\n",
    "DVIX = []\n",
    "DHOUSE = []"
   ]
  },
  {
   "cell_type": "code",
   "execution_count": 4,
   "metadata": {},
   "outputs": [],
   "source": [
    "for i in RF_Data[\"Date\"]:\n",
    "    \n",
    "    index = RF_Data[RF_Data[\"Date\"] == i].index[0]\n",
    "    month = (datetime.datetime.strptime(i, \"%Y-%m-%d\")).month\n",
    "    \n",
    "    if month == 2:\n",
    "        dates.append(i)\n",
    "        "
   ]
  },
  {
   "cell_type": "code",
   "execution_count": 5,
   "metadata": {},
   "outputs": [],
   "source": [
    "year = []\n",
    "month = []\n",
    "day = []\n",
    "\n",
    "for i in dates:\n",
    "    \n",
    "    x = datetime.datetime.strptime(str(i), \"%Y-%m-%d\")\n",
    "    \n",
    "    year.append(x.year)\n",
    "    month.append(x.month)\n",
    "    day.append(x.day)"
   ]
  },
  {
   "cell_type": "code",
   "execution_count": 6,
   "metadata": {},
   "outputs": [],
   "source": [
    "for i in dates:\n",
    "    \n",
    "    date = RF_Data[RF_Data[\"Date\"] == i].index[0]\n",
    "    \n",
    "    BOND.append(RF_Data.loc[date, \"BOND\"])\n",
    "    CREDIT.append(RF_Data.loc[date, \"CREDIT\"])\n",
    "    SP500.append(RF_Data.loc[date, \"SP500\"])\n",
    "    CMDTY.append(RF_Data.loc[date, \"CMDTY\"])\n",
    "    DVIX.append(RF_Data.loc[date, \"DVIX\"])\n",
    "    DHOUSE.append(RF_Data.loc[date, \"DHOUSE\"])"
   ]
  },
  {
   "cell_type": "code",
   "execution_count": 7,
   "metadata": {},
   "outputs": [],
   "source": [
    "Return_Table[\"BOND\"] = BOND\n",
    "Return_Table[\"CREDIT\"] = CREDIT\n",
    "Return_Table[\"SP500\"] = SP500\n",
    "Return_Table[\"CMDTY\"] = CMDTY\n",
    "Return_Table[\"DVIX\"] = DVIX\n",
    "Return_Table[\"DHOUSE\"] = DHOUSE\n",
    "\n",
    "Return_Table[\"Year\"] = year\n",
    "Return_Table[\"Month\"] = month\n",
    "Return_Table[\"Day\"] = day"
   ]
  },
  {
   "cell_type": "code",
   "execution_count": 8,
   "metadata": {},
   "outputs": [],
   "source": [
    "Return_Table.index = dates"
   ]
  },
  {
   "cell_type": "code",
   "execution_count": 10,
   "metadata": {},
   "outputs": [
    {
     "data": {
      "text/html": [
       "<div>\n",
       "<style scoped>\n",
       "    .dataframe tbody tr th:only-of-type {\n",
       "        vertical-align: middle;\n",
       "    }\n",
       "\n",
       "    .dataframe tbody tr th {\n",
       "        vertical-align: top;\n",
       "    }\n",
       "\n",
       "    .dataframe thead th {\n",
       "        text-align: right;\n",
       "    }\n",
       "</style>\n",
       "<table border=\"1\" class=\"dataframe\">\n",
       "  <thead>\n",
       "    <tr style=\"text-align: right;\">\n",
       "      <th></th>\n",
       "      <th>BOND</th>\n",
       "      <th>CREDIT</th>\n",
       "      <th>SP500</th>\n",
       "      <th>CMDTY</th>\n",
       "      <th>DVIX</th>\n",
       "      <th>DHOUSE</th>\n",
       "      <th>Year</th>\n",
       "      <th>Month</th>\n",
       "      <th>Day</th>\n",
       "    </tr>\n",
       "  </thead>\n",
       "  <tbody>\n",
       "    <tr>\n",
       "      <th>1975-02-01</th>\n",
       "      <td>0.0388</td>\n",
       "      <td>-14.02</td>\n",
       "      <td>0.1386</td>\n",
       "      <td>-0.1654</td>\n",
       "      <td>-3.8780</td>\n",
       "      <td>0.0024</td>\n",
       "      <td>1975</td>\n",
       "      <td>2</td>\n",
       "      <td>1</td>\n",
       "    </tr>\n",
       "    <tr>\n",
       "      <th>1976-02-01</th>\n",
       "      <td>0.0053</td>\n",
       "      <td>-8.10</td>\n",
       "      <td>0.1212</td>\n",
       "      <td>-0.0268</td>\n",
       "      <td>0.2137</td>\n",
       "      <td>0.0026</td>\n",
       "      <td>1976</td>\n",
       "      <td>2</td>\n",
       "      <td>1</td>\n",
       "    </tr>\n",
       "    <tr>\n",
       "      <th>1977-02-01</th>\n",
       "      <td>-0.0235</td>\n",
       "      <td>-5.38</td>\n",
       "      <td>-0.0385</td>\n",
       "      <td>0.0090</td>\n",
       "      <td>0.9400</td>\n",
       "      <td>0.0114</td>\n",
       "      <td>1977</td>\n",
       "      <td>2</td>\n",
       "      <td>1</td>\n",
       "    </tr>\n",
       "    <tr>\n",
       "      <th>1978-02-01</th>\n",
       "      <td>-0.0089</td>\n",
       "      <td>-4.60</td>\n",
       "      <td>-0.0502</td>\n",
       "      <td>0.0383</td>\n",
       "      <td>0.1433</td>\n",
       "      <td>0.0117</td>\n",
       "      <td>1978</td>\n",
       "      <td>2</td>\n",
       "      <td>1</td>\n",
       "    </tr>\n",
       "    <tr>\n",
       "      <th>1979-02-01</th>\n",
       "      <td>0.0136</td>\n",
       "      <td>-7.32</td>\n",
       "      <td>0.0443</td>\n",
       "      <td>0.0619</td>\n",
       "      <td>-4.1077</td>\n",
       "      <td>0.0132</td>\n",
       "      <td>1979</td>\n",
       "      <td>2</td>\n",
       "      <td>1</td>\n",
       "    </tr>\n",
       "  </tbody>\n",
       "</table>\n",
       "</div>"
      ],
      "text/plain": [
       "              BOND  CREDIT   SP500   CMDTY    DVIX  DHOUSE  Year  Month  Day\n",
       "1975-02-01  0.0388  -14.02  0.1386 -0.1654 -3.8780  0.0024  1975      2    1\n",
       "1976-02-01  0.0053   -8.10  0.1212 -0.0268  0.2137  0.0026  1976      2    1\n",
       "1977-02-01 -0.0235   -5.38 -0.0385  0.0090  0.9400  0.0114  1977      2    1\n",
       "1978-02-01 -0.0089   -4.60 -0.0502  0.0383  0.1433  0.0117  1978      2    1\n",
       "1979-02-01  0.0136   -7.32  0.0443  0.0619 -4.1077  0.0132  1979      2    1"
      ]
     },
     "execution_count": 10,
     "metadata": {},
     "output_type": "execute_result"
    }
   ],
   "source": [
    "Return_Table.head()"
   ]
  },
  {
   "cell_type": "markdown",
   "metadata": {},
   "source": [
    "# Bank Data Formatting"
   ]
  },
  {
   "cell_type": "code",
   "execution_count": 11,
   "metadata": {},
   "outputs": [],
   "source": [
    "date = []\n",
    "year = []\n",
    "month = []\n",
    "day = []\n",
    "\n",
    "for i in Bank_Data[\"date\"]:\n",
    "    x = datetime.datetime.strptime(str(i), \"%Y%m%d\")\n",
    "    \n",
    "    date.append(x)\n",
    "    year.append(x.year)\n",
    "    month.append(x.month)\n",
    "    day.append(x.day)"
   ]
  },
  {
   "cell_type": "code",
   "execution_count": 12,
   "metadata": {},
   "outputs": [],
   "source": [
    "Bank_Data[\"date\"] = date\n",
    "Bank_Data[\"Year\"] = year\n",
    "Bank_Data[\"Month\"] = month\n",
    "Bank_Data[\"Day\"] = day"
   ]
  },
  {
   "cell_type": "code",
   "execution_count": 13,
   "metadata": {},
   "outputs": [],
   "source": [
    "Bank_Returns = []\n",
    "\n",
    "permno = Bank_Data[\"PERMNO\"] == 10071\n",
    "month = Bank_Data[\"Month\"] == 2\n",
    "\n",
    "Single_Firm = Bank_Data[permno & month]"
   ]
  },
  {
   "cell_type": "code",
   "execution_count": 14,
   "metadata": {},
   "outputs": [],
   "source": [
    "Bank_Returns = Single_Firm[\"RET\"]\n",
    "\n",
    "Bank_Returns = pd.DataFrame(Bank_Returns)"
   ]
  },
  {
   "cell_type": "code",
   "execution_count": 15,
   "metadata": {},
   "outputs": [],
   "source": [
    "Year = Single_Firm[\"Year\"]\n",
    "Month = Single_Firm[\"Month\"]\n",
    "Day = Single_Firm[\"Day\"]"
   ]
  },
  {
   "cell_type": "code",
   "execution_count": 16,
   "metadata": {},
   "outputs": [],
   "source": [
    "Bank_Returns[\"Year\"] = Year\n",
    "Bank_Returns[\"Month\"] = Month\n",
    "Bank_Returns[\"Day\"] = Day"
   ]
  },
  {
   "cell_type": "code",
   "execution_count": 17,
   "metadata": {},
   "outputs": [],
   "source": [
    "Bank_Returns.index = Single_Firm[\"date\"]"
   ]
  },
  {
   "cell_type": "code",
   "execution_count": 18,
   "metadata": {},
   "outputs": [],
   "source": [
    "bond = []\n",
    "credit = []\n",
    "sp500 = []\n",
    "cmdty = []\n",
    "dvix = []\n",
    "dhouse = []\n",
    "\n",
    "for index, i in Bank_Returns.iterrows():\n",
    "    year = Return_Table[\"Year\"] == i['Year']\n",
    "    month = Return_Table[\"Month\"] == i['Month']\n",
    "    \n",
    "    bond.append((Return_Table[\"BOND\"][year & month]))\n",
    "    credit.append((Return_Table[\"CREDIT\"][year & month]))\n",
    "    sp500.append((Return_Table[\"SP500\"][year & month]))\n",
    "    cmdty.append((Return_Table[\"CMDTY\"][year & month]))\n",
    "    dvix.append((Return_Table[\"DVIX\"][year & month]))\n",
    "    dhouse.append((Return_Table[\"DHOUSE\"][year & month]))"
   ]
  },
  {
   "cell_type": "code",
   "execution_count": 19,
   "metadata": {},
   "outputs": [],
   "source": [
    "bond = np.array(bond)\n",
    "credit = np.array(credit)\n",
    "sp500 = np.array(sp500)\n",
    "cmdty = np.array(cmdty)\n",
    "dvix = np.array(dvix)\n",
    "dhouse = np.array(dhouse)"
   ]
  },
  {
   "cell_type": "code",
   "execution_count": 20,
   "metadata": {},
   "outputs": [],
   "source": [
    "Bank_Returns[\"BOND\"] = bond\n",
    "Bank_Returns[\"CREDIT\"] = credit\n",
    "Bank_Returns[\"SP500\"] = sp500\n",
    "Bank_Returns[\"CMDTY\"] = cmdty\n",
    "Bank_Returns[\"DVIX\"] = dvix\n",
    "Bank_Returns[\"DHOUSE\"] = dhouse"
   ]
  },
  {
   "cell_type": "code",
   "execution_count": 21,
   "metadata": {},
   "outputs": [
    {
     "data": {
      "text/html": [
       "<div>\n",
       "<style scoped>\n",
       "    .dataframe tbody tr th:only-of-type {\n",
       "        vertical-align: middle;\n",
       "    }\n",
       "\n",
       "    .dataframe tbody tr th {\n",
       "        vertical-align: top;\n",
       "    }\n",
       "\n",
       "    .dataframe thead th {\n",
       "        text-align: right;\n",
       "    }\n",
       "</style>\n",
       "<table border=\"1\" class=\"dataframe\">\n",
       "  <thead>\n",
       "    <tr style=\"text-align: right;\">\n",
       "      <th></th>\n",
       "      <th>RET</th>\n",
       "      <th>Year</th>\n",
       "      <th>Month</th>\n",
       "      <th>Day</th>\n",
       "      <th>BOND</th>\n",
       "      <th>CREDIT</th>\n",
       "      <th>SP500</th>\n",
       "      <th>CMDTY</th>\n",
       "      <th>DVIX</th>\n",
       "      <th>DHOUSE</th>\n",
       "    </tr>\n",
       "    <tr>\n",
       "      <th>date</th>\n",
       "      <th></th>\n",
       "      <th></th>\n",
       "      <th></th>\n",
       "      <th></th>\n",
       "      <th></th>\n",
       "      <th></th>\n",
       "      <th></th>\n",
       "      <th></th>\n",
       "      <th></th>\n",
       "      <th></th>\n",
       "    </tr>\n",
       "  </thead>\n",
       "  <tbody>\n",
       "    <tr>\n",
       "      <th>1993-02-26</th>\n",
       "      <td>-0.026882</td>\n",
       "      <td>1993</td>\n",
       "      <td>2</td>\n",
       "      <td>26</td>\n",
       "      <td>0.0140</td>\n",
       "      <td>-4.991</td>\n",
       "      <td>0.0171</td>\n",
       "      <td>0.0126</td>\n",
       "      <td>0.74</td>\n",
       "      <td>0.0007</td>\n",
       "    </tr>\n",
       "    <tr>\n",
       "      <th>1994-02-28</th>\n",
       "      <td>0.005357</td>\n",
       "      <td>1994</td>\n",
       "      <td>2</td>\n",
       "      <td>28</td>\n",
       "      <td>0.0101</td>\n",
       "      <td>-3.097</td>\n",
       "      <td>0.0320</td>\n",
       "      <td>0.0960</td>\n",
       "      <td>4.24</td>\n",
       "      <td>0.0017</td>\n",
       "    </tr>\n",
       "    <tr>\n",
       "      <th>1995-02-28</th>\n",
       "      <td>0.093525</td>\n",
       "      <td>1995</td>\n",
       "      <td>2</td>\n",
       "      <td>28</td>\n",
       "      <td>0.0135</td>\n",
       "      <td>-2.870</td>\n",
       "      <td>0.0260</td>\n",
       "      <td>-0.0239</td>\n",
       "      <td>-0.21</td>\n",
       "      <td>0.0013</td>\n",
       "    </tr>\n",
       "    <tr>\n",
       "      <th>1996-02-29</th>\n",
       "      <td>0.024615</td>\n",
       "      <td>1996</td>\n",
       "      <td>2</td>\n",
       "      <td>29</td>\n",
       "      <td>0.0037</td>\n",
       "      <td>-3.740</td>\n",
       "      <td>0.0382</td>\n",
       "      <td>-0.0110</td>\n",
       "      <td>4.51</td>\n",
       "      <td>0.0015</td>\n",
       "    </tr>\n",
       "    <tr>\n",
       "      <th>1997-02-28</th>\n",
       "      <td>0.096698</td>\n",
       "      <td>1997</td>\n",
       "      <td>2</td>\n",
       "      <td>28</td>\n",
       "      <td>-0.0024</td>\n",
       "      <td>-2.643</td>\n",
       "      <td>0.0633</td>\n",
       "      <td>-0.0195</td>\n",
       "      <td>1.63</td>\n",
       "      <td>0.0027</td>\n",
       "    </tr>\n",
       "  </tbody>\n",
       "</table>\n",
       "</div>"
      ],
      "text/plain": [
       "                  RET  Year  Month  Day    BOND  CREDIT   SP500   CMDTY  DVIX  \\\n",
       "date                                                                            \n",
       "1993-02-26  -0.026882  1993      2   26  0.0140  -4.991  0.0171  0.0126  0.74   \n",
       "1994-02-28   0.005357  1994      2   28  0.0101  -3.097  0.0320  0.0960  4.24   \n",
       "1995-02-28   0.093525  1995      2   28  0.0135  -2.870  0.0260 -0.0239 -0.21   \n",
       "1996-02-29   0.024615  1996      2   29  0.0037  -3.740  0.0382 -0.0110  4.51   \n",
       "1997-02-28   0.096698  1997      2   28 -0.0024  -2.643  0.0633 -0.0195  1.63   \n",
       "\n",
       "            DHOUSE  \n",
       "date                \n",
       "1993-02-26  0.0007  \n",
       "1994-02-28  0.0017  \n",
       "1995-02-28  0.0013  \n",
       "1996-02-29  0.0015  \n",
       "1997-02-28  0.0027  "
      ]
     },
     "execution_count": 21,
     "metadata": {},
     "output_type": "execute_result"
    }
   ],
   "source": [
    "Bank_Returns"
   ]
  },
  {
   "cell_type": "code",
   "execution_count": 22,
   "metadata": {},
   "outputs": [],
   "source": [
    "y = Bank_Returns['RET']\n",
    "x = Bank_Returns[['SP500']]"
   ]
  },
  {
   "cell_type": "code",
   "execution_count": 23,
   "metadata": {},
   "outputs": [],
   "source": [
    "linear_regression = LinearRegression()"
   ]
  },
  {
   "cell_type": "code",
   "execution_count": 24,
   "metadata": {},
   "outputs": [
    {
     "data": {
      "text/plain": [
       "LinearRegression()"
      ]
     },
     "execution_count": 24,
     "metadata": {},
     "output_type": "execute_result"
    }
   ],
   "source": [
    "linear_regression.fit(x,y)"
   ]
  },
  {
   "cell_type": "code",
   "execution_count": 25,
   "metadata": {},
   "outputs": [
    {
     "data": {
      "text/plain": [
       "array([0.00319555, 0.03219989, 0.02052029, 0.04426881, 0.09312847])"
      ]
     },
     "execution_count": 25,
     "metadata": {},
     "output_type": "execute_result"
    }
   ],
   "source": [
    "y_pred = linear_regression.predict(x)\n",
    "y_pred"
   ]
  },
  {
   "cell_type": "code",
   "execution_count": 26,
   "metadata": {},
   "outputs": [
    {
     "name": "stdout",
     "output_type": "stream",
     "text": [
      "[1.94659995]\n"
     ]
    }
   ],
   "source": [
    "print(linear_regression.coef_)"
   ]
  },
  {
   "cell_type": "code",
   "execution_count": null,
   "metadata": {},
   "outputs": [],
   "source": []
  }
 ],
 "metadata": {
  "kernelspec": {
   "display_name": "Python 3",
   "language": "python",
   "name": "python3"
  },
  "language_info": {
   "codemirror_mode": {
    "name": "ipython",
    "version": 3
   },
   "file_extension": ".py",
   "mimetype": "text/x-python",
   "name": "python",
   "nbconvert_exporter": "python",
   "pygments_lexer": "ipython3",
   "version": "3.8.3"
  }
 },
 "nbformat": 4,
 "nbformat_minor": 4
}
