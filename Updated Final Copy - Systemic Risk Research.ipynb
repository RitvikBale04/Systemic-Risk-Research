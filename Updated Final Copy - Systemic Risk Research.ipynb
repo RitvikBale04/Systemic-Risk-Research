{
 "cells": [
  {
   "cell_type": "markdown",
   "metadata": {},
   "source": [
    "# Imports"
   ]
  },
  {
   "cell_type": "code",
   "execution_count": 1,
   "metadata": {},
   "outputs": [],
   "source": [
    "# Importing the required packages\n",
    "from tqdm import tqdm\n",
    "import datetime\n",
    "import numpy as np\n",
    "import pandas as pd\n",
    "from sklearn.linear_model import LinearRegression\n",
    "from sklearn.preprocessing import StandardScaler\n",
    "from sklearn.cluster import KMeans\n",
    "import matplotlib.pyplot as plt\n",
    "import time, sys"
   ]
  },
  {
   "cell_type": "markdown",
   "metadata": {},
   "source": [
    "# Data Files"
   ]
  },
  {
   "cell_type": "code",
   "execution_count": 2,
   "metadata": {},
   "outputs": [],
   "source": [
    "# importing the data \n",
    "RF_Data = pd.read_csv(\"C:\\\\Users\\\\Ritvik Bale\\\\Documents\\\\Systemic Risk Research\\\\Risk Factor Data v1.csv\")\n",
    "Bank_Data = pd.read_csv(\"C:\\\\Users\\\\Ritvik Bale\\\\Documents\\\\Systemic Risk Research\\\\Bank data v1 2020-08-24.csv\")\n",
    "\n",
    "# converting the raw data to DataFrames\n",
    "RF_Data = pd.DataFrame(RF_Data)\n",
    "Bank_Data = pd.DataFrame(Bank_Data)"
   ]
  },
  {
   "cell_type": "markdown",
   "metadata": {},
   "source": [
    "# Adding Year, Month, and Day Columns to the DataFrames"
   ]
  },
  {
   "cell_type": "code",
   "execution_count": 3,
   "metadata": {},
   "outputs": [
    {
     "data": {
      "text/plain": [
       "0       -0.082353\n",
       "1       -0.174359\n",
       "2        0.125000\n",
       "3       -0.062500\n",
       "4       -0.045926\n",
       "           ...   \n",
       "35829   -0.020362\n",
       "35830   -0.041701\n",
       "35831    0.064621\n",
       "35832    0.000409\n",
       "35833   -0.019877\n",
       "Name: RET, Length: 35319, dtype: float64"
      ]
     },
     "execution_count": 3,
     "metadata": {},
     "output_type": "execute_result"
    }
   ],
   "source": [
    "#Adding Year, Month, and Day columns to the BankData Dataframe \n",
    "#This makes it easier to access the specific rows that we want\n",
    "\n",
    "#Initializing the arrays that will store the Year, Month, and Day of all the rows in the BankData DataFrame\n",
    "Year = []\n",
    "Month = []\n",
    "Day = []\n",
    "\n",
    "for i in Bank_Data[\"date\"]:    \n",
    "    #Getting the Year, Month, and Day for each row in BankData DataFrame\n",
    "    Year.append((datetime.datetime.strptime(str(i), \"%Y%m%d\")).year)\n",
    "    Month.append((datetime.datetime.strptime(str(i), \"%Y%m%d\")).month)\n",
    "    Day.append((datetime.datetime.strptime(str(i), \"%Y%m%d\")).day)\n",
    "    \n",
    "#Adding the Year, Month, and Day arrays as columns to the BankData DataFrame\n",
    "Bank_Data[\"Year\"] = Year\n",
    "Bank_Data[\"Month\"] = Month\n",
    "Bank_Data[\"Day\"] = Day\n",
    "\n",
    "#Dropping Rows with Null Return Values\n",
    "Bank_Data = Bank_Data.dropna(axis=0, subset=['RET'])\n",
    "#Dropping Rows with values B and C\n",
    "Bank_Data.drop(Bank_Data[Bank_Data.RET == 'B'].index, inplace=True)\n",
    "Bank_Data.drop(Bank_Data[Bank_Data.RET == 'C'].index, inplace=True)\n",
    "#Converting the Return Column to type Float\n",
    "Bank_Data[\"RET\"].astype(str).astype(float)"
   ]
  },
  {
   "cell_type": "code",
   "execution_count": 4,
   "metadata": {},
   "outputs": [
    {
     "data": {
      "text/plain": [
       "0       -0.082353\n",
       "1       -0.174359\n",
       "2        0.125000\n",
       "3       -0.062500\n",
       "4       -0.045926\n",
       "           ...   \n",
       "35829   -0.020362\n",
       "35830   -0.041701\n",
       "35831    0.064621\n",
       "35832    0.000409\n",
       "35833   -0.019877\n",
       "Name: RET, Length: 35319, dtype: float64"
      ]
     },
     "execution_count": 4,
     "metadata": {},
     "output_type": "execute_result"
    }
   ],
   "source": [
    "Bank_Data.drop(Bank_Data[Bank_Data.RET == 'B'].index, inplace=True)\n",
    "Bank_Data.drop(Bank_Data[Bank_Data.RET == 'C'].index, inplace=True)\n",
    "Bank_Data[\"RET\"].astype(str).astype(float)"
   ]
  },
  {
   "cell_type": "code",
   "execution_count": 5,
   "metadata": {},
   "outputs": [],
   "source": [
    "#Adding Year, Month, and Day columns to the RiskFactor Dataframe \n",
    "#This makes it easier to access the specific rows that we want\n",
    "\n",
    "#Initializing the arrays that will store the Year, Month, and Day of all the rows in the RiskFactor DataFrame\n",
    "Year = []\n",
    "Month = []\n",
    "Day = []\n",
    "\n",
    "for i in RF_Data[\"Date\"]:    \n",
    "    #Getting the Year, Month, and Day for each row in the RiskFactor DataFrame\n",
    "    Year.append((datetime.datetime.strptime(i, \"%Y-%m-%d\")).year)\n",
    "    Month.append((datetime.datetime.strptime(i, \"%Y-%m-%d\")).month)\n",
    "    Day.append((datetime.datetime.strptime(i, \"%Y-%m-%d\")).day)\n",
    "    \n",
    "#Adding the Year, Month, and Day arrays as columns to the RiskFactor DataFrame\n",
    "RF_Data[\"Year\"] = Year\n",
    "RF_Data[\"Month\"] = Month\n",
    "RF_Data[\"Day\"] = Day"
   ]
  },
  {
   "cell_type": "code",
   "execution_count": 6,
   "metadata": {},
   "outputs": [
    {
     "data": {
      "text/html": [
       "<div>\n",
       "<style scoped>\n",
       "    .dataframe tbody tr th:only-of-type {\n",
       "        vertical-align: middle;\n",
       "    }\n",
       "\n",
       "    .dataframe tbody tr th {\n",
       "        vertical-align: top;\n",
       "    }\n",
       "\n",
       "    .dataframe thead th {\n",
       "        text-align: right;\n",
       "    }\n",
       "</style>\n",
       "<table border=\"1\" class=\"dataframe\">\n",
       "  <thead>\n",
       "    <tr style=\"text-align: right;\">\n",
       "      <th></th>\n",
       "      <th>PERMNO</th>\n",
       "      <th>date</th>\n",
       "      <th>SICCD</th>\n",
       "      <th>COMNAM</th>\n",
       "      <th>PERMCO</th>\n",
       "      <th>CUSIP</th>\n",
       "      <th>RET</th>\n",
       "      <th>Year</th>\n",
       "      <th>Month</th>\n",
       "      <th>Day</th>\n",
       "    </tr>\n",
       "  </thead>\n",
       "  <tbody>\n",
       "    <tr>\n",
       "      <th>0</th>\n",
       "      <td>10071</td>\n",
       "      <td>19920331</td>\n",
       "      <td>6211</td>\n",
       "      <td>ALEX BROWN INC</td>\n",
       "      <td>8015</td>\n",
       "      <td>1390210</td>\n",
       "      <td>-0.082353</td>\n",
       "      <td>1992</td>\n",
       "      <td>3</td>\n",
       "      <td>31</td>\n",
       "    </tr>\n",
       "    <tr>\n",
       "      <th>1</th>\n",
       "      <td>10071</td>\n",
       "      <td>19920430</td>\n",
       "      <td>6211</td>\n",
       "      <td>ALEX BROWN INC</td>\n",
       "      <td>8015</td>\n",
       "      <td>1390210</td>\n",
       "      <td>-0.174359</td>\n",
       "      <td>1992</td>\n",
       "      <td>4</td>\n",
       "      <td>30</td>\n",
       "    </tr>\n",
       "    <tr>\n",
       "      <th>2</th>\n",
       "      <td>10071</td>\n",
       "      <td>19920529</td>\n",
       "      <td>6211</td>\n",
       "      <td>ALEX BROWN INC</td>\n",
       "      <td>8015</td>\n",
       "      <td>1390210</td>\n",
       "      <td>0.125</td>\n",
       "      <td>1992</td>\n",
       "      <td>5</td>\n",
       "      <td>29</td>\n",
       "    </tr>\n",
       "    <tr>\n",
       "      <th>3</th>\n",
       "      <td>10071</td>\n",
       "      <td>19920630</td>\n",
       "      <td>6211</td>\n",
       "      <td>ALEX BROWN INC</td>\n",
       "      <td>8015</td>\n",
       "      <td>1390210</td>\n",
       "      <td>-0.0625</td>\n",
       "      <td>1992</td>\n",
       "      <td>6</td>\n",
       "      <td>30</td>\n",
       "    </tr>\n",
       "    <tr>\n",
       "      <th>4</th>\n",
       "      <td>10071</td>\n",
       "      <td>19920731</td>\n",
       "      <td>6211</td>\n",
       "      <td>ALEX BROWN INC</td>\n",
       "      <td>8015</td>\n",
       "      <td>1390210</td>\n",
       "      <td>-0.045926</td>\n",
       "      <td>1992</td>\n",
       "      <td>7</td>\n",
       "      <td>31</td>\n",
       "    </tr>\n",
       "  </tbody>\n",
       "</table>\n",
       "</div>"
      ],
      "text/plain": [
       "   PERMNO      date  SICCD          COMNAM  PERMCO    CUSIP        RET  Year  \\\n",
       "0   10071  19920331   6211  ALEX BROWN INC    8015  1390210  -0.082353  1992   \n",
       "1   10071  19920430   6211  ALEX BROWN INC    8015  1390210  -0.174359  1992   \n",
       "2   10071  19920529   6211  ALEX BROWN INC    8015  1390210      0.125  1992   \n",
       "3   10071  19920630   6211  ALEX BROWN INC    8015  1390210    -0.0625  1992   \n",
       "4   10071  19920731   6211  ALEX BROWN INC    8015  1390210  -0.045926  1992   \n",
       "\n",
       "   Month  Day  \n",
       "0      3   31  \n",
       "1      4   30  \n",
       "2      5   29  \n",
       "3      6   30  \n",
       "4      7   31  "
      ]
     },
     "execution_count": 6,
     "metadata": {},
     "output_type": "execute_result"
    }
   ],
   "source": [
    "#First few rows of BankData DataFrame\n",
    "Bank_Data.head()"
   ]
  },
  {
   "cell_type": "code",
   "execution_count": 7,
   "metadata": {},
   "outputs": [
    {
     "data": {
      "text/html": [
       "<div>\n",
       "<style scoped>\n",
       "    .dataframe tbody tr th:only-of-type {\n",
       "        vertical-align: middle;\n",
       "    }\n",
       "\n",
       "    .dataframe tbody tr th {\n",
       "        vertical-align: top;\n",
       "    }\n",
       "\n",
       "    .dataframe thead th {\n",
       "        text-align: right;\n",
       "    }\n",
       "</style>\n",
       "<table border=\"1\" class=\"dataframe\">\n",
       "  <thead>\n",
       "    <tr style=\"text-align: right;\">\n",
       "      <th></th>\n",
       "      <th>Date</th>\n",
       "      <th>BOND</th>\n",
       "      <th>CREDIT</th>\n",
       "      <th>SP500</th>\n",
       "      <th>CMDTY</th>\n",
       "      <th>DVIX</th>\n",
       "      <th>DHOUSE</th>\n",
       "      <th>Unnamed: 7</th>\n",
       "      <th>Year</th>\n",
       "      <th>Month</th>\n",
       "      <th>Day</th>\n",
       "    </tr>\n",
       "  </thead>\n",
       "  <tbody>\n",
       "    <tr>\n",
       "      <th>0</th>\n",
       "      <td>1975-02-01</td>\n",
       "      <td>0.0388</td>\n",
       "      <td>-14.02</td>\n",
       "      <td>0.1386</td>\n",
       "      <td>-0.1654</td>\n",
       "      <td>-3.8780</td>\n",
       "      <td>0.0024</td>\n",
       "      <td>NaN</td>\n",
       "      <td>1975</td>\n",
       "      <td>2</td>\n",
       "      <td>1</td>\n",
       "    </tr>\n",
       "    <tr>\n",
       "      <th>1</th>\n",
       "      <td>1975-03-01</td>\n",
       "      <td>0.0157</td>\n",
       "      <td>-12.54</td>\n",
       "      <td>0.0702</td>\n",
       "      <td>-0.1036</td>\n",
       "      <td>-1.6952</td>\n",
       "      <td>0.0004</td>\n",
       "      <td>NaN</td>\n",
       "      <td>1975</td>\n",
       "      <td>3</td>\n",
       "      <td>1</td>\n",
       "    </tr>\n",
       "    <tr>\n",
       "      <th>2</th>\n",
       "      <td>1975-04-01</td>\n",
       "      <td>-0.0142</td>\n",
       "      <td>-12.71</td>\n",
       "      <td>-0.0014</td>\n",
       "      <td>0.0908</td>\n",
       "      <td>-0.3795</td>\n",
       "      <td>-0.0012</td>\n",
       "      <td>NaN</td>\n",
       "      <td>1975</td>\n",
       "      <td>4</td>\n",
       "      <td>1</td>\n",
       "    </tr>\n",
       "    <tr>\n",
       "      <th>3</th>\n",
       "      <td>1975-05-01</td>\n",
       "      <td>-0.0093</td>\n",
       "      <td>-12.02</td>\n",
       "      <td>0.0691</td>\n",
       "      <td>-0.0435</td>\n",
       "      <td>-1.0668</td>\n",
       "      <td>0.0004</td>\n",
       "      <td>NaN</td>\n",
       "      <td>1975</td>\n",
       "      <td>5</td>\n",
       "      <td>1</td>\n",
       "    </tr>\n",
       "    <tr>\n",
       "      <th>4</th>\n",
       "      <td>1975-06-01</td>\n",
       "      <td>0.0120</td>\n",
       "      <td>-12.81</td>\n",
       "      <td>0.0538</td>\n",
       "      <td>-0.0270</td>\n",
       "      <td>-0.9265</td>\n",
       "      <td>0.0008</td>\n",
       "      <td>NaN</td>\n",
       "      <td>1975</td>\n",
       "      <td>6</td>\n",
       "      <td>1</td>\n",
       "    </tr>\n",
       "  </tbody>\n",
       "</table>\n",
       "</div>"
      ],
      "text/plain": [
       "         Date    BOND  CREDIT   SP500   CMDTY    DVIX  DHOUSE  Unnamed: 7  \\\n",
       "0  1975-02-01  0.0388  -14.02  0.1386 -0.1654 -3.8780  0.0024         NaN   \n",
       "1  1975-03-01  0.0157  -12.54  0.0702 -0.1036 -1.6952  0.0004         NaN   \n",
       "2  1975-04-01 -0.0142  -12.71 -0.0014  0.0908 -0.3795 -0.0012         NaN   \n",
       "3  1975-05-01 -0.0093  -12.02  0.0691 -0.0435 -1.0668  0.0004         NaN   \n",
       "4  1975-06-01  0.0120  -12.81  0.0538 -0.0270 -0.9265  0.0008         NaN   \n",
       "\n",
       "   Year  Month  Day  \n",
       "0  1975      2    1  \n",
       "1  1975      3    1  \n",
       "2  1975      4    1  \n",
       "3  1975      5    1  \n",
       "4  1975      6    1  "
      ]
     },
     "execution_count": 7,
     "metadata": {},
     "output_type": "execute_result"
    }
   ],
   "source": [
    "#First few rows of RiskFactor DataFrame\n",
    "RF_Data.head()"
   ]
  },
  {
   "cell_type": "markdown",
   "metadata": {},
   "source": [
    "# Initializing the Return Table"
   ]
  },
  {
   "cell_type": "code",
   "execution_count": 8,
   "metadata": {},
   "outputs": [],
   "source": [
    "#Initializing the Return_Table that will consist of all the Bank Returns, and the corresponding Risk Factor Returns\n",
    "Return_Table = []\n",
    "Return_Table = pd.DataFrame(Return_Table)\n",
    "\n",
    "#Adding Columns for the Year, Month, and Day (allows us to easily retrieve the corresponding Risk Factor Returns (by date))\n",
    "Return_Table[\"Year\"] = Bank_Data[\"Year\"]\n",
    "Return_Table[\"Month\"] = Bank_Data[\"Month\"]\n",
    "Return_Table[\"Day\"] = Bank_Data[\"Day\"]\n",
    "\n",
    "#Adding a PERMNO column(to be able to identify the firms), and a column consisting of all the Bank Returns\n",
    "Return_Table[\"PERMNO\"] = Bank_Data[\"PERMNO\"]\n",
    "Return_Table[\"Return\"] = Bank_Data[\"RET\"]"
   ]
  },
  {
   "cell_type": "markdown",
   "metadata": {},
   "source": [
    "### Adding the Risk Factor Returns to the Return Table"
   ]
  },
  {
   "cell_type": "code",
   "execution_count": 9,
   "metadata": {},
   "outputs": [],
   "source": [
    "#Initializing a Return Array for each Risk Factor\n",
    "BOND = []\n",
    "CREDIT = []\n",
    "SP500 = []\n",
    "CMDTY = []\n",
    "DVIX = []\n",
    "DHOUSE = []"
   ]
  },
  {
   "cell_type": "code",
   "execution_count": 10,
   "metadata": {},
   "outputs": [],
   "source": [
    "#Adding all the corresponding Risk Factor Return values for each Bank Return entry (by date)\n",
    "#Looping through the Bank Data DataFrame to find the Risk Factor returns for each date\n",
    "for index, i in Bank_Data.iterrows():\n",
    "    \n",
    "    #Determining the year and month of row\n",
    "    year = RF_Data[\"Year\"] == i[\"Year\"]\n",
    "    month = RF_Data[\"Month\"] == i[\"Month\"]\n",
    "    \n",
    "    #Determining the row of Risk Factor Returns for the given date (year & month)\n",
    "    Value = RF_Data[year & month]\n",
    "    \n",
    "    #Appending the Risk Factor Returns for the given date (year & month)\n",
    "    BOND.append(np.array(Value[\"BOND\"]))\n",
    "    CREDIT.append(np.array(Value[\"CREDIT\"]))\n",
    "    SP500.append(np.array(Value[\"SP500\"]))\n",
    "    CMDTY.append(np.array(Value[\"CMDTY\"]))\n",
    "    DVIX.append(np.array(Value[\"DVIX\"]))\n",
    "    DHOUSE.append(np.array(Value[\"DHOUSE\"]))"
   ]
  },
  {
   "cell_type": "code",
   "execution_count": 11,
   "metadata": {},
   "outputs": [],
   "source": [
    "#Adding all of the Corresponding Risk Factor Return Arrays to the DataFrame\n",
    "Return_Table[\"BOND\"] = BOND\n",
    "Return_Table[\"CREDIT\"] = CREDIT\n",
    "Return_Table[\"SP500\"] = SP500\n",
    "Return_Table[\"CMDTY\"] = CMDTY\n",
    "Return_Table[\"DVIX\"] = DVIX\n",
    "Return_Table[\"DHOUSE\"] = DHOUSE"
   ]
  },
  {
   "cell_type": "code",
   "execution_count": 12,
   "metadata": {},
   "outputs": [
    {
     "data": {
      "text/html": [
       "<div>\n",
       "<style scoped>\n",
       "    .dataframe tbody tr th:only-of-type {\n",
       "        vertical-align: middle;\n",
       "    }\n",
       "\n",
       "    .dataframe tbody tr th {\n",
       "        vertical-align: top;\n",
       "    }\n",
       "\n",
       "    .dataframe thead th {\n",
       "        text-align: right;\n",
       "    }\n",
       "</style>\n",
       "<table border=\"1\" class=\"dataframe\">\n",
       "  <thead>\n",
       "    <tr style=\"text-align: right;\">\n",
       "      <th></th>\n",
       "      <th>Year</th>\n",
       "      <th>Month</th>\n",
       "      <th>Day</th>\n",
       "      <th>PERMNO</th>\n",
       "      <th>Return</th>\n",
       "      <th>BOND</th>\n",
       "      <th>CREDIT</th>\n",
       "      <th>SP500</th>\n",
       "      <th>CMDTY</th>\n",
       "      <th>DVIX</th>\n",
       "      <th>DHOUSE</th>\n",
       "    </tr>\n",
       "  </thead>\n",
       "  <tbody>\n",
       "    <tr>\n",
       "      <th>0</th>\n",
       "      <td>1992</td>\n",
       "      <td>3</td>\n",
       "      <td>31</td>\n",
       "      <td>10071</td>\n",
       "      <td>-0.082353</td>\n",
       "      <td>[-0.0015]</td>\n",
       "      <td>[-3.676]</td>\n",
       "      <td>[0.0106]</td>\n",
       "      <td>[-0.0237]</td>\n",
       "      <td>[-0.5]</td>\n",
       "      <td>[0.0016]</td>\n",
       "    </tr>\n",
       "    <tr>\n",
       "      <th>1</th>\n",
       "      <td>1992</td>\n",
       "      <td>4</td>\n",
       "      <td>30</td>\n",
       "      <td>10071</td>\n",
       "      <td>-0.174359</td>\n",
       "      <td>[-0.0124]</td>\n",
       "      <td>[-3.344]</td>\n",
       "      <td>[-0.0178]</td>\n",
       "      <td>[0.0306]</td>\n",
       "      <td>[-0.65]</td>\n",
       "      <td>[0.0009]</td>\n",
       "    </tr>\n",
       "    <tr>\n",
       "      <th>2</th>\n",
       "      <td>1992</td>\n",
       "      <td>5</td>\n",
       "      <td>29</td>\n",
       "      <td>10071</td>\n",
       "      <td>0.125</td>\n",
       "      <td>[-0.0006]</td>\n",
       "      <td>[-3.179]</td>\n",
       "      <td>[0.022]</td>\n",
       "      <td>[0.0231]</td>\n",
       "      <td>[-1.67]</td>\n",
       "      <td>[0.0007]</td>\n",
       "    </tr>\n",
       "    <tr>\n",
       "      <th>3</th>\n",
       "      <td>1992</td>\n",
       "      <td>6</td>\n",
       "      <td>30</td>\n",
       "      <td>10071</td>\n",
       "      <td>-0.0625</td>\n",
       "      <td>[0.0066]</td>\n",
       "      <td>[-3.319]</td>\n",
       "      <td>[0.0159]</td>\n",
       "      <td>[0.0243]</td>\n",
       "      <td>[-0.51]</td>\n",
       "      <td>[-0.0008]</td>\n",
       "    </tr>\n",
       "    <tr>\n",
       "      <th>4</th>\n",
       "      <td>1992</td>\n",
       "      <td>7</td>\n",
       "      <td>31</td>\n",
       "      <td>10071</td>\n",
       "      <td>-0.045926</td>\n",
       "      <td>[0.0078]</td>\n",
       "      <td>[-3.212]</td>\n",
       "      <td>[-0.0084]</td>\n",
       "      <td>[-0.0041]</td>\n",
       "      <td>[-0.18]</td>\n",
       "      <td>[-0.0008]</td>\n",
       "    </tr>\n",
       "  </tbody>\n",
       "</table>\n",
       "</div>"
      ],
      "text/plain": [
       "   Year  Month  Day  PERMNO     Return       BOND    CREDIT      SP500  \\\n",
       "0  1992      3   31   10071  -0.082353  [-0.0015]  [-3.676]   [0.0106]   \n",
       "1  1992      4   30   10071  -0.174359  [-0.0124]  [-3.344]  [-0.0178]   \n",
       "2  1992      5   29   10071      0.125  [-0.0006]  [-3.179]    [0.022]   \n",
       "3  1992      6   30   10071    -0.0625   [0.0066]  [-3.319]   [0.0159]   \n",
       "4  1992      7   31   10071  -0.045926   [0.0078]  [-3.212]  [-0.0084]   \n",
       "\n",
       "       CMDTY     DVIX     DHOUSE  \n",
       "0  [-0.0237]   [-0.5]   [0.0016]  \n",
       "1   [0.0306]  [-0.65]   [0.0009]  \n",
       "2   [0.0231]  [-1.67]   [0.0007]  \n",
       "3   [0.0243]  [-0.51]  [-0.0008]  \n",
       "4  [-0.0041]  [-0.18]  [-0.0008]  "
      ]
     },
     "execution_count": 12,
     "metadata": {},
     "output_type": "execute_result"
    }
   ],
   "source": [
    "#First few rows of ReturnTable DataFrame\n",
    "Return_Table.head()"
   ]
  },
  {
   "cell_type": "markdown",
   "metadata": {},
   "source": [
    "# Coefficient (Beta) DataFrame Creation"
   ]
  },
  {
   "cell_type": "code",
   "execution_count": 28,
   "metadata": {},
   "outputs": [],
   "source": [
    "#Creating an array consisting of all the PERMNO Codes (each code is only counted once - unique)\n",
    "PERMNO = Bank_Data[\"PERMNO\"].unique()\n",
    "\n",
    "#Creating the Coefficient Table DataFrame which will contain the coefficients from all of the regressions\n",
    "Coefficient_Table = []"
   ]
  },
  {
   "cell_type": "code",
   "execution_count": 29,
   "metadata": {},
   "outputs": [],
   "source": [
    "def DateFunction(start_year, end_year):\n",
    "    \n",
    "    #Iterate over all firms\n",
    "    for i in PERMNO:\n",
    "        #Create a Return table for each firm - consisting of only the dates that have been specified\n",
    "        Single_Firm = Return_Table.loc[Return_Table['PERMNO'] == i]\n",
    "        \n",
    "        #Modifying the DataFrame to only include returns from the specified dates\n",
    "        SF = Single_Firm.loc[(Single_Firm.Year >= start_year) & (Single_Firm.Year <=end_year)]\n",
    "        \n",
    "        #Setting the X Variables to be regressed on (Risk Factors), and setting the Y Variable that will be regressed (Bank Returns)\n",
    "        y = SF['Return']\n",
    "        x = SF[['BOND', 'CREDIT', 'SP500', 'CMDTY', 'DVIX', 'DHOUSE']]\n",
    "        \n",
    "        #Conducting the Linear Regression\n",
    "        if len(x['BOND']) > 1:\n",
    "            reg = LinearRegression().fit(x, y)\n",
    "            \n",
    "            Coefficients = (reg.coef_)\n",
    "            Coefficient_Table.append(Coefficients)\n"
   ]
  },
  {
   "cell_type": "markdown",
   "metadata": {},
   "source": [
    "Arbitrary Run"
   ]
  },
  {
   "cell_type": "code",
   "execution_count": 30,
   "metadata": {},
   "outputs": [],
   "source": [
    "DateFunction(start_year=2004, end_year=2007)"
   ]
  },
  {
   "cell_type": "code",
   "execution_count": 31,
   "metadata": {},
   "outputs": [],
   "source": [
    "#Formatting the Coefficient Table as a DataFrame\n",
    "Coefficient_Table = pd.DataFrame(Coefficient_Table, columns = [\"BOND\", \"CREDIT\", \"SP500\", \"CMDTY\", \"DVIX\", \"DHOUSE\"])"
   ]
  },
  {
   "cell_type": "code",
   "execution_count": 32,
   "metadata": {},
   "outputs": [
    {
     "data": {
      "text/html": [
       "<div>\n",
       "<style scoped>\n",
       "    .dataframe tbody tr th:only-of-type {\n",
       "        vertical-align: middle;\n",
       "    }\n",
       "\n",
       "    .dataframe tbody tr th {\n",
       "        vertical-align: top;\n",
       "    }\n",
       "\n",
       "    .dataframe thead th {\n",
       "        text-align: right;\n",
       "    }\n",
       "</style>\n",
       "<table border=\"1\" class=\"dataframe\">\n",
       "  <thead>\n",
       "    <tr style=\"text-align: right;\">\n",
       "      <th></th>\n",
       "      <th>BOND</th>\n",
       "      <th>CREDIT</th>\n",
       "      <th>SP500</th>\n",
       "      <th>CMDTY</th>\n",
       "      <th>DVIX</th>\n",
       "      <th>DHOUSE</th>\n",
       "    </tr>\n",
       "  </thead>\n",
       "  <tbody>\n",
       "    <tr>\n",
       "      <th>0</th>\n",
       "      <td>0.501784</td>\n",
       "      <td>-0.003058</td>\n",
       "      <td>6.179803e-01</td>\n",
       "      <td>0.105221</td>\n",
       "      <td>-0.008405</td>\n",
       "      <td>-5.487281e-01</td>\n",
       "    </tr>\n",
       "    <tr>\n",
       "      <th>1</th>\n",
       "      <td>-2.470130</td>\n",
       "      <td>0.008852</td>\n",
       "      <td>2.522348e-01</td>\n",
       "      <td>0.000988</td>\n",
       "      <td>-0.008351</td>\n",
       "      <td>-5.414310e-01</td>\n",
       "    </tr>\n",
       "    <tr>\n",
       "      <th>2</th>\n",
       "      <td>9.033351</td>\n",
       "      <td>0.815857</td>\n",
       "      <td>-8.123075e+00</td>\n",
       "      <td>-2.113306</td>\n",
       "      <td>-0.044275</td>\n",
       "      <td>1.895331e+02</td>\n",
       "    </tr>\n",
       "    <tr>\n",
       "      <th>3</th>\n",
       "      <td>0.557986</td>\n",
       "      <td>-0.006269</td>\n",
       "      <td>4.591876e-01</td>\n",
       "      <td>0.098457</td>\n",
       "      <td>-0.009611</td>\n",
       "      <td>-1.827474e+00</td>\n",
       "    </tr>\n",
       "    <tr>\n",
       "      <th>4</th>\n",
       "      <td>4.779421</td>\n",
       "      <td>-0.224869</td>\n",
       "      <td>5.481569e+00</td>\n",
       "      <td>1.902616</td>\n",
       "      <td>-0.088933</td>\n",
       "      <td>-2.989535e+00</td>\n",
       "    </tr>\n",
       "    <tr>\n",
       "      <th>...</th>\n",
       "      <td>...</td>\n",
       "      <td>...</td>\n",
       "      <td>...</td>\n",
       "      <td>...</td>\n",
       "      <td>...</td>\n",
       "      <td>...</td>\n",
       "    </tr>\n",
       "    <tr>\n",
       "      <th>180</th>\n",
       "      <td>-9.119886</td>\n",
       "      <td>0.000743</td>\n",
       "      <td>4.021581e-01</td>\n",
       "      <td>-0.912180</td>\n",
       "      <td>0.005899</td>\n",
       "      <td>1.370589e+00</td>\n",
       "    </tr>\n",
       "    <tr>\n",
       "      <th>181</th>\n",
       "      <td>-5.894194</td>\n",
       "      <td>-0.003534</td>\n",
       "      <td>8.710838e-01</td>\n",
       "      <td>-0.150576</td>\n",
       "      <td>0.006799</td>\n",
       "      <td>8.927363e-01</td>\n",
       "    </tr>\n",
       "    <tr>\n",
       "      <th>182</th>\n",
       "      <td>-0.002836</td>\n",
       "      <td>0.001205</td>\n",
       "      <td>-9.485404e-07</td>\n",
       "      <td>0.000059</td>\n",
       "      <td>0.002351</td>\n",
       "      <td>-1.895667e-06</td>\n",
       "    </tr>\n",
       "    <tr>\n",
       "      <th>183</th>\n",
       "      <td>0.014903</td>\n",
       "      <td>0.000272</td>\n",
       "      <td>-7.549296e-08</td>\n",
       "      <td>0.000024</td>\n",
       "      <td>0.000189</td>\n",
       "      <td>-1.584104e-07</td>\n",
       "    </tr>\n",
       "    <tr>\n",
       "      <th>184</th>\n",
       "      <td>0.252021</td>\n",
       "      <td>0.007479</td>\n",
       "      <td>2.972361e-01</td>\n",
       "      <td>-0.148913</td>\n",
       "      <td>-0.004493</td>\n",
       "      <td>1.436696e+00</td>\n",
       "    </tr>\n",
       "  </tbody>\n",
       "</table>\n",
       "<p>185 rows × 6 columns</p>\n",
       "</div>"
      ],
      "text/plain": [
       "         BOND    CREDIT         SP500     CMDTY      DVIX        DHOUSE\n",
       "0    0.501784 -0.003058  6.179803e-01  0.105221 -0.008405 -5.487281e-01\n",
       "1   -2.470130  0.008852  2.522348e-01  0.000988 -0.008351 -5.414310e-01\n",
       "2    9.033351  0.815857 -8.123075e+00 -2.113306 -0.044275  1.895331e+02\n",
       "3    0.557986 -0.006269  4.591876e-01  0.098457 -0.009611 -1.827474e+00\n",
       "4    4.779421 -0.224869  5.481569e+00  1.902616 -0.088933 -2.989535e+00\n",
       "..        ...       ...           ...       ...       ...           ...\n",
       "180 -9.119886  0.000743  4.021581e-01 -0.912180  0.005899  1.370589e+00\n",
       "181 -5.894194 -0.003534  8.710838e-01 -0.150576  0.006799  8.927363e-01\n",
       "182 -0.002836  0.001205 -9.485404e-07  0.000059  0.002351 -1.895667e-06\n",
       "183  0.014903  0.000272 -7.549296e-08  0.000024  0.000189 -1.584104e-07\n",
       "184  0.252021  0.007479  2.972361e-01 -0.148913 -0.004493  1.436696e+00\n",
       "\n",
       "[185 rows x 6 columns]"
      ]
     },
     "execution_count": 32,
     "metadata": {},
     "output_type": "execute_result"
    }
   ],
   "source": [
    "Coefficient_Table"
   ]
  },
  {
   "cell_type": "markdown",
   "metadata": {},
   "source": [
    "# Statistical Analysis"
   ]
  },
  {
   "cell_type": "markdown",
   "metadata": {},
   "source": [
    "## Running PCA to Determine the Level of Correlation"
   ]
  },
  {
   "cell_type": "code",
   "execution_count": 48,
   "metadata": {},
   "outputs": [
    {
     "data": {
      "image/png": "[encoded data removed]",
      "text/plain": [
       "<Figure size 432x288 with 1 Axes>"
      ]
     },
     "metadata": {
      "needs_background": "light"
     },
     "output_type": "display_data"
    }
   ],
   "source": [
    "#Initializing Standardization Function\n",
    "sc = StandardScaler()\n",
    "\n",
    "#Initializing a Standardized Matrix of the Coefficient Table\n",
    "Coeff_PCA_std = sc.fit_transform(Coefficient_Table)\n",
    "\n",
    "#Condstructing a Covariance Matrix from the Standardized Matrix\n",
    "Cov_Mat = np.cov(Coeff_PCA_std.T)\n",
    "\n",
    "#Determining the Eigenvectors and the Eigenvalues from the Covariance Matrix\n",
    "Eigen_Vals, Eigen_Vecs = np.linalg.eig(Cov_Mat)\n",
    "\n",
    "#Determining the Percentage Explained Variances\n",
    "Total = sum(Eigen_Vals)\n",
    "Var_Exp = [(i / Total) for i in sorted(Eigen_Vals, reverse=True)]\n",
    "\n",
    "#Creating the Elbow Plot showing the Proportion of Variance explained by the Eigenvectors\n",
    "plt.plot(range(1,7), Var_Exp)\n",
    "plt.title('Eigenvalue Variance')\n",
    "plt.xlabel('Eigen Vector')\n",
    "plt.ylabel('Proportion of Variance')\n",
    "plt.show()"
   ]
  },
  {
   "cell_type": "markdown",
   "metadata": {},
   "source": [
    "Cumulative Proportion of Variance"
   ]
  },
  {
   "cell_type": "code",
   "execution_count": 50,
   "metadata": {},
   "outputs": [
    {
     "data": {
      "image/png": "[encoded data removed]",
      "text/plain": [
       "<Figure size 432x288 with 1 Axes>"
      ]
     },
     "metadata": {
      "needs_background": "light"
     },
     "output_type": "display_data"
    }
   ],
   "source": [
    "#Array Containing Cumulative Proportion of Variances\n",
    "Cum_Var = []\n",
    "#Initializing a Variable that will be incremented by the Proportion of Variance for each EigenValue\n",
    "total = 0\n",
    "\n",
    "for i in Var_Exp:\n",
    "    total += i\n",
    "    Cum_Var.append(total)\n",
    "    \n",
    "#Creating the Elbow Plot showing the Cumulative Proportion of Variance\n",
    "plt.plot(range(1,7), Cum_Var)\n",
    "plt.title('Cumulative Eigenvalue Variance')\n",
    "plt.xlabel('Eigen Vector')\n",
    "plt.ylabel('Cumulative Proportion of Variance')\n",
    "plt.show()"
   ]
  },
  {
   "cell_type": "markdown",
   "metadata": {},
   "source": [
    "## Determining the Distance of the Points from the Line of Complete Systemic Risk"
   ]
  },
  {
   "cell_type": "code",
   "execution_count": 40,
   "metadata": {},
   "outputs": [],
   "source": [
    "#Creating an Array which wil containg the average of the coefficient of all the points (the mean coordinates)\n",
    "Average_Coeff = []\n",
    "\n",
    "#Appending the Average Beta of each Risk Factor to the Average_Coeff Array\n",
    "Average_Coeff.append(np.mean(np.array(Coefficient_Table['BOND'])))\n",
    "Average_Coeff.append(np.mean(np.array(Coefficient_Table['SP500'])))\n",
    "Average_Coeff.append(np.mean(np.array(Coefficient_Table['CREDIT'])))\n",
    "Average_Coeff.append(np.mean(np.array(Coefficient_Table['CMDTY'])))\n",
    "Average_Coeff.append(np.mean(np.array(Coefficient_Table['DVIX'])))\n",
    "Average_Coeff.append(np.mean(np.array(Coefficient_Table['DHOUSE'])))"
   ]
  },
  {
   "cell_type": "code",
   "execution_count": 41,
   "metadata": {},
   "outputs": [],
   "source": [
    "#Initializing the Normal(Perpendicular/Orthogonal) Vector to our Surface/Manifold of Complete Systemic Risk\n",
    "Normal = [1, 1, 1, 1, 1, 1]\n",
    "\n",
    "#Initializing the Vector between a Randomly Selected Point on the Manifold (1, 0, 0, 0, 0, 0) and the Average_Coeff Point\n",
    "Random_Point = [1, 0, 0, 0, 0, 0]\n",
    "#Determining the Vector Between the Mean Coefficient Point and the Random_point as the Vector in the Plane of the Manifold\n",
    "Vector = np.subtract(Average_Coeff, Random_Point)\n",
    "\n",
    "#Taking the Dot Product of the Normal Vector and the Arbitrary Vector to determine the distance of the point from the Manifold of Complete Systemic Risk\n",
    "Distance = np.dot(Normal, Vector)"
   ]
  },
  {
   "cell_type": "code",
   "execution_count": 42,
   "metadata": {},
   "outputs": [
    {
     "data": {
      "text/plain": [
       "0.027856690413603148"
      ]
     },
     "execution_count": 42,
     "metadata": {},
     "output_type": "execute_result"
    }
   ],
   "source": [
    "Distance"
   ]
  },
  {
   "cell_type": "markdown",
   "metadata": {},
   "source": [
    "Standard Deviation of the Distances of all Firms"
   ]
  },
  {
   "cell_type": "code",
   "execution_count": 61,
   "metadata": {},
   "outputs": [
    {
     "data": {
      "text/plain": [
       "18.102826627013147"
      ]
     },
     "execution_count": 61,
     "metadata": {},
     "output_type": "execute_result"
    }
   ],
   "source": [
    "#Initializing the Distances of all Firms from the Line of Complete Systemic Risk\n",
    "Distances = []\n",
    "\n",
    "for i in range(len(Coefficient_Table.BOND)):\n",
    "    #Setting the Firm's Point equivalent to its Coefficient Values\n",
    "    Firm_Point = Coefficient_Table.loc[i]\n",
    "    \n",
    "    #Determining the Vector Between the Firm Point and the Random_point as the Vector in the Plane of the Manifold\n",
    "    Vector = np.subtract(Firm_Point, Random_Point)\n",
    "    #Taking the Dot Product of the Normal Vector and the Arbitrary Vector to determine the distance of the point from the Manifold of Complete Systemic Risk\n",
    "    distance = np.dot(Normal, Vector)\n",
    "    \n",
    "    #Appending the Distance of the Firm to the Distances Array\n",
    "    Distances.append(distance)\n",
    "\n",
    "#Calculating the Standard Deviation of the Distances of the Firms\n",
    "SD = np.std(Distances)\n",
    "SD"
   ]
  },
  {
   "cell_type": "markdown",
   "metadata": {},
   "source": [
    "## Squared Weighted Systemic Risk"
   ]
  },
  {
   "cell_type": "code",
   "execution_count": 43,
   "metadata": {},
   "outputs": [],
   "source": [
    "#Calculating the Squared Weighted Systemic Risk\n",
    "\n",
    "#Initializing the Square Weighted Systemic Risk Variable\n",
    "SquareWeighted_Systemic_Risk = 0\n",
    "\n",
    "#Looping through the Coefficients and Incrementing the Variable by each Squared Coefficient\n",
    "for i in Average_Coeff:\n",
    "    #Incrementing by the Squared Coefficient\n",
    "    SquareWeighted_Systemic_Risk += (i**2)"
   ]
  },
  {
   "cell_type": "code",
   "execution_count": 44,
   "metadata": {},
   "outputs": [
    {
     "data": {
      "text/plain": [
       "0.8687895872508817"
      ]
     },
     "execution_count": 44,
     "metadata": {},
     "output_type": "execute_result"
    }
   ],
   "source": [
    "SquareWeighted_Systemic_Risk"
   ]
  },
  {
   "cell_type": "markdown",
   "metadata": {},
   "source": [
    "## Measuring Clustering via the SD of the Points from the Mean Point"
   ]
  },
  {
   "cell_type": "code",
   "execution_count": 45,
   "metadata": {},
   "outputs": [],
   "source": [
    "#Initializing the Array which will hold the Distances of all the Points from the Mean Point\n",
    "distances = []\n",
    "\n",
    "#Iterating through all Firms and their Coefficients in the Coefficients Table\n",
    "for i in range(len(Coefficient_Table.BOND)):\n",
    "    #Initialzing the Squared Differences for each Coefficient\n",
    "    Bond_Distance = (Coefficient_Table.BOND[i] - Average_Coeff[0])**2\n",
    "    SP500_Distance = (Coefficient_Table.SP500[i] - Average_Coeff[1])**2\n",
    "    Credit_Distance = (Coefficient_Table.CREDIT[i] - Average_Coeff[2])**2\n",
    "    CMDTY_Distance = (Coefficient_Table.CMDTY[i] - Average_Coeff[3])**2\n",
    "    DVIX_Distance = (Coefficient_Table.DVIX[i] - Average_Coeff[4])**2\n",
    "    DHouse_Distance = (Coefficient_Table.DHOUSE[i] - Average_Coeff[5])**2\n",
    "    \n",
    "    #Determining the Distance via all Coefficient Differences and the Pythagorean Theorem\n",
    "    distance = np.sqrt((Bond_Distance + SP500_Distance + Credit_Distance + CMDTY_Distance + DVIX_Distance + DHouse_Distance))\n",
    "    \n",
    "    #Appending the distance to the distances array\n",
    "    distances.append(distance)\n",
    "\n",
    "#Calculating the SD of the Distances array (the smaller the SD the greater the Clustering and Systemic Risk)\n",
    "sd_distances = np.std(distances)"
   ]
  },
  {
   "cell_type": "code",
   "execution_count": 46,
   "metadata": {},
   "outputs": [
    {
     "data": {
      "text/plain": [
       "17.558868226359692"
      ]
     },
     "execution_count": 46,
     "metadata": {},
     "output_type": "execute_result"
    }
   ],
   "source": [
    "sd_distances"
   ]
  },
  {
   "cell_type": "markdown",
   "metadata": {},
   "source": [
    "## Running K-Means Clustering"
   ]
  },
  {
   "cell_type": "code",
   "execution_count": 47,
   "metadata": {},
   "outputs": [
    {
     "data": {
      "image/png": "[encoded data removed]",
      "text/plain": [
       "<Figure size 432x288 with 1 Axes>"
      ]
     },
     "metadata": {
      "needs_background": "light"
     },
     "output_type": "display_data"
    }
   ],
   "source": [
    "#Initializing the SSE Array Which Will Contain the Sum of Squared Errors for each Number of Clusters\n",
    "SSE = []\n",
    "\n",
    "#Running K-Means Clustering from 1 - 11 Clusters, and appending the SSE for each Number of Clusters\n",
    "for i in range(1, 11):\n",
    "    kmeans = KMeans(n_clusters=i, init='k-means++', max_iter=300, n_init=10, random_state=0)\n",
    "    kmeans.fit(Coefficient_Table)\n",
    "    SSE.append(kmeans.inertia_)\n",
    "\n",
    "#Creating the Elbow Plot showing the SSE for each Number of Clusters as a Contiguous Line\n",
    "plt.plot(range(1, 11), SSE)\n",
    "plt.title('Elbow Method')\n",
    "plt.xlabel('Number of clusters')\n",
    "plt.ylabel('SSE')\n",
    "plt.show()"
   ]
  },
  {
   "cell_type": "code",
   "execution_count": null,
   "metadata": {},
   "outputs": [],
   "source": []
  }
 ],
 "metadata": {
  "kernelspec": {
   "display_name": "Python 3",
   "language": "python",
   "name": "python3"
  },
  "language_info": {
   "codemirror_mode": {
    "name": "ipython",
    "version": 3
   },
   "file_extension": ".py",
   "mimetype": "text/x-python",
   "name": "python",
   "nbconvert_exporter": "python",
   "pygments_lexer": "ipython3",
   "version": "3.8.3"
  }
 },
 "nbformat": 4,
 "nbformat_minor": 4
}
